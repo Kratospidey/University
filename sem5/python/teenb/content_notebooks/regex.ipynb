{
 "cells": [
  {
   "cell_type": "code",
   "execution_count": 10,
   "metadata": {},
   "outputs": [],
   "source": [
    "import re"
   ]
  },
  {
   "cell_type": "markdown",
   "metadata": {},
   "source": [
    "## Metacharacters\n",
    "\n",
    "| Character | Description                                      | Example         |\n",
    "|-----------|--------------------------------------------------|-----------------|\n",
    "| [ ]       | A set of characters                              | \"[a-m]\"         |\n",
    "| \\         | Signals a special sequence (also for escaping)   | \"\\d\"            |\n",
    "| .         | Any character (except newline character)         | \"he.o\"          |\n",
    "| ^         | Starts with                                      | \"^hello\"        |\n",
    "| $         | Ends with                                        | \"planets$\"      |\n",
    "| *         | Zero or more occurrences                         | \"he.*o\"         |\n",
    "| +         | One or more occurrences                          | \"he.+o\"         |\n",
    "| ?         | Zero or one occurrences                          | \"he.?o\"         |\n",
    "| { }       | Exactly the specified number of occurrences      | \"he.{2}o\"       |\n",
    "| \\|        | Either or                                        | \"fall\\|stays\"   |\n",
    "| ( )       | Capture and group                                | \"(fall\\|stays)\" |\n"
   ]
  },
  {
   "cell_type": "markdown",
   "metadata": {},
   "source": [
    "### Special Sequences \n",
    "\n",
    "| Character | Description                                                  | Example      |\n",
    "|-----------|--------------------------------------------------------------|--------------|\n",
    "| \\A        | Returns a match if the specified characters are at the beginning of the string | \"\\AThe\"      |\n",
    "| \\b        | Returns a match where the specified characters are at the beginning or at the end of a word | \"bain\" or r\"ain\\b\" |\n",
    "| \\B        | Returns a match where the specified characters are present, but NOT at the beginning (or at the end) of a word | r\"Bain\" or r\"ain\\B\" |\n",
    "| \\d        | Returns a match where the string contains digits (numbers from 0-9) | \"\\d\"        |\n",
    "| \\D        | Returns a match where the string DOES NOT contain digits     | \"\\D\"         |\n",
    "| \\s        | Returns a match where the string contains a white space character | \"\\s\"        |\n",
    "| \\S        | Returns a match where the string DOES NOT contain a white space character | \"\\S\"        |\n",
    "| \\w        | Returns a match where the string contains any word characters (characters from a to Z, digits from 0-9, and the underscore _ character) | \"\\w\"        |\n",
    "| \\W        | Returns a match where the string DOES NOT contain any word characters | \"\\W\"        |\n",
    "| \\z        | Returns a match if the specified characters are at the end of the string | \"Spain\\z\"   |\n"
   ]
  },
  {
   "cell_type": "markdown",
   "metadata": {},
   "source": [
    "### re.findall\n",
    "\n",
    "> returns a list containing all the matches\n",
    "\n",
    "syntax:- `re.findall(pattern, string, flags=0)`\n",
    "\n",
    "`pattern`: This is the regular expression pattern you want to search for.\n",
    "\n",
    "`string`: The string in which you want to search for the pattern.\n",
    "\n",
    "`flags` (optional): You can specify different flags using bitwise OR (|). These can alter the way the regular expressions work. Some common flags are `re.IGNORECASE`, `re.MULTILINE`, etc.\n"
   ]
  },
  {
   "cell_type": "code",
   "execution_count": 1,
   "metadata": {},
   "outputs": [
    {
     "name": "stdout",
     "output_type": "stream",
     "text": [
      "['cat', 'cat', 'cat']\n"
     ]
    }
   ],
   "source": [
    "import re\n",
    "\n",
    "text = \"The cat chased the catnip, but the other cat was too fast.\"\n",
    "pattern = r'cat'\n",
    "found_words = re.findall(pattern, text)\n",
    "\n",
    "print(found_words)"
   ]
  },
  {
   "cell_type": "markdown",
   "metadata": {},
   "source": [
    "### re.search\n",
    "\n",
    "> returns a match object if there is a match anywhere in the string\n",
    "\n",
    "syntax:- `re.search(pattern, string, flags=0)`\n",
    "\n",
    "`pattern`: The regular expression pattern you want to search for.\n",
    "\n",
    "`string`: The string in which you want to search for the pattern.\n",
    "\n",
    "`flags` (optional): You can specify different flags using bitwise OR (|). These can alter the way the regular expressions work. Some common flags are `re.IGNORECASE`, `re.MULTILINE`, etc.\n"
   ]
  },
  {
   "cell_type": "code",
   "execution_count": 8,
   "metadata": {},
   "outputs": [
    {
     "name": "stdout",
     "output_type": "stream",
     "text": [
      "<re.Match object; span=(40, 43), match='dog'>\n",
      "Found: dog\n"
     ]
    }
   ],
   "source": [
    "import re\n",
    "\n",
    "text = \"The quick brown fox jumps over the lazy dog.\"\n",
    "pattern = r'dog'\n",
    "\n",
    "\n",
    "if match:= re.search(pattern, text):\n",
    "    print(\"Found:\", match.group())\n",
    "else:\n",
    "    print(\"No match found.\")"
   ]
  },
  {
   "cell_type": "markdown",
   "metadata": {},
   "source": [
    "### re.split\n",
    "\n",
    "> returns a list where the string has been split at each match\n",
    "\n",
    "syntax:- `re.split(pattern, string, maxsplit=0, flags=0)`\n",
    "\n",
    "`pattern`: The regular expression pattern that you want to split the string on.\n",
    "\n",
    "`string`: The string you want to split.\n",
    "\n",
    "`maxsplit` (optional): Specifies the maximum number of splits. The default value is 0, meaning no limit on the number of splits.\n",
    "\n",
    "`flags` (optional): You can specify different flags using bitwise OR (|). These can alter the way the regular expressions work. Some common flags are `re.IGNORECASE`, `re.MULTILINE`, etc.\n"
   ]
  },
  {
   "cell_type": "code",
   "execution_count": 9,
   "metadata": {},
   "outputs": [
    {
     "name": "stdout",
     "output_type": "stream",
     "text": [
      "['The fox', 'quick', 'brown', 'dog']\n"
     ]
    }
   ],
   "source": [
    "import re\n",
    "\n",
    "text = \"The fox,quick,brown,dog\"\n",
    "pattern = r','\n",
    "splitted_text = re.split(pattern, text)\n",
    "\n",
    "print(splitted_text)"
   ]
  },
  {
   "cell_type": "code",
   "execution_count": null,
   "metadata": {},
   "outputs": [],
   "source": [
    "import re\n",
    "\n",
    "text = \"The cat chased the catnip, but the other cat was too fast.\"\n",
    "pattern = r'cat'\n",
    "replacement = 'dog'\n",
    "new_text = re.sub(pattern, replacement, text)\n",
    "\n",
    "print(new_text)"
   ]
  },
  {
   "cell_type": "markdown",
   "metadata": {},
   "source": [
    "### Resources\n",
    "\n",
    "- Lab 09\n",
    "- PF8_Regular Expression PPT"
   ]
  },
  {
   "cell_type": "markdown",
   "metadata": {},
   "source": [
    "## Practice Problems"
   ]
  },
  {
   "cell_type": "markdown",
   "metadata": {},
   "source": [
    "Write a Python program to find all words that are at least 4 characters long in a string."
   ]
  },
  {
   "cell_type": "code",
   "execution_count": 11,
   "metadata": {},
   "outputs": [
    {
     "name": "stdout",
     "output_type": "stream",
     "text": [
      "['hello', 'name', 'param']\n"
     ]
    }
   ],
   "source": [
    "sentence = input(\"Enter a generic sentence \")\n",
    "pattern = r'[a-zA-Z]{4,}'\n",
    "words = re.findall(pattern, sentence)\n",
    "print(words)"
   ]
  },
  {
   "cell_type": "markdown",
   "metadata": {},
   "source": [
    "Search the string to see if it starts with \"The\" and ends with \"walk\""
   ]
  },
  {
   "cell_type": "code",
   "execution_count": 27,
   "metadata": {},
   "outputs": [
    {
     "name": "stdout",
     "output_type": "stream",
     "text": [
      "The generic sentence does start with `The` and ends with `walk`\n",
      "Match group: the sentence ends with walk\n"
     ]
    }
   ],
   "source": [
    "sentence = input(\"Enter a generic sentence \")\n",
    "pattern = r'\\AThe.*walk\\Z'\n",
    "if word:= re.search(pattern, sentence,re.IGNORECASE):\n",
    "    print(\"The generic sentence does start with `The` and ends with `walk`\")\n",
    "    print(\"Match group:\", word.group())\n",
    "else:\n",
    "    print(\"The generic sentence does not start with `The` and ends with `walk`\")"
   ]
  },
  {
   "cell_type": "markdown",
   "metadata": {},
   "source": [
    "Replace every white-space character with a -"
   ]
  },
  {
   "cell_type": "code",
   "execution_count": 15,
   "metadata": {},
   "outputs": [
    {
     "name": "stdout",
     "output_type": "stream",
     "text": [
      "hello-world\n"
     ]
    }
   ],
   "source": [
    "sentence = input(\"Enter a generic sentence \")\n",
    "pattern = r'\\s'\n",
    "replacement = \"-\"\n",
    "sentence = re.sub(pattern, replacement, sentence)\n",
    "print(sentence)"
   ]
  },
  {
   "cell_type": "markdown",
   "metadata": {},
   "source": [
    "Write a python program to remove all whitespaces from a string"
   ]
  },
  {
   "cell_type": "code",
   "execution_count": 16,
   "metadata": {},
   "outputs": [
    {
     "name": "stdout",
     "output_type": "stream",
     "text": [
      "helloworld\n"
     ]
    }
   ],
   "source": [
    "sentence = input(\"Enter a generic sentence \")\n",
    "pattern = r'\\s'\n",
    "replacement = \"\"\n",
    "sentence = re.sub(pattern, replacement, sentence)\n",
    "print(sentence)"
   ]
  },
  {
   "cell_type": "markdown",
   "metadata": {},
   "source": [
    "Write a Python program to find all three, four, and five character words in a string."
   ]
  },
  {
   "cell_type": "code",
   "execution_count": 20,
   "metadata": {},
   "outputs": [
    {
     "name": "stdout",
     "output_type": "stream",
     "text": [
      "['blah', 'blehh', 'bli']\n"
     ]
    }
   ],
   "source": [
    "sentence = input(\"Enter a generic sentence \")\n",
    "pattern = r\"\\b[a-zA-Z]{3,5}\\b\"\n",
    "words = re.findall(pattern, sentence)\n",
    "print(words)"
   ]
  },
  {
   "cell_type": "markdown",
   "metadata": {},
   "source": [
    "Write a Python program to separate and print the numbers in a given string."
   ]
  },
  {
   "cell_type": "code",
   "execution_count": 24,
   "metadata": {},
   "outputs": [
    {
     "name": "stdout",
     "output_type": "stream",
     "text": [
      "['123', '23', '1']\n"
     ]
    }
   ],
   "source": [
    "sentence = input(\"Enter a generic sentence \")\n",
    "pattern = r\"\\d\"\n",
    "words = re.findall(pattern, sentence)\n",
    "print(words)"
   ]
  },
  {
   "cell_type": "markdown",
   "metadata": {},
   "source": [
    "Write a Python program to replace all occurrences of a space, comma, or dot with a colon."
   ]
  },
  {
   "cell_type": "code",
   "execution_count": 26,
   "metadata": {},
   "outputs": [
    {
     "name": "stdout",
     "output_type": "stream",
     "text": [
      "hello:how:are:you:\n"
     ]
    }
   ],
   "source": [
    "sentence = input(\"Enter a generic sentence \")\n",
    "pattern = r\"(\\s|\\.|,)\"\n",
    "replacement = \":\"\n",
    "sentence = re.sub(pattern, replacement, sentence)\n",
    "print(sentence)"
   ]
  }
 ],
 "metadata": {
  "kernelspec": {
   "display_name": "Python 3",
   "language": "python",
   "name": "python3"
  },
  "language_info": {
   "codemirror_mode": {
    "name": "ipython",
    "version": 3
   },
   "file_extension": ".py",
   "mimetype": "text/x-python",
   "name": "python",
   "nbconvert_exporter": "python",
   "pygments_lexer": "ipython3",
   "version": "3.10.12"
  }
 },
 "nbformat": 4,
 "nbformat_minor": 2
}
