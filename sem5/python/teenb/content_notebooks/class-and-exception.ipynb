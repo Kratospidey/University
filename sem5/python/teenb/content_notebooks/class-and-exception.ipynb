{
 "cells": [
  {
   "cell_type": "markdown",
   "metadata": {},
   "source": [
    "# Classes and Objects\n",
    "- A class is a blueprint by which you can define custom variables or objects\n",
    "- These objects can have multiple variables which are known as members\n",
    "- They can also have multiple functions which they can perform, known as methods\n",
    "# Class vs Object with Analogy\n",
    "- A class is like the blueprint for a car\n",
    "- The actual car that is constructed from the blueprint is the object or instance of that class\n",
    "# `self` in Classes\n",
    "- `self` is the pointer to the object which is calling the methods defined in the class\n",
    "- Think of `self` as a way to say \"this particular object.\"\n",
    "- `self` is important as the when a object method is called, self is used to identify which object called the method\n",
    "- Example:\n",
    "    - If `Jash` and `Param` are two objects of the `Person` class\n",
    "    - `Jash` object calls a method `say_name()`\n",
    "    - The program knows that `Jash` calls the method `say_name()` because of `self` and prints \"My name is Jash\" instead of \"My name is Param\"\n",
    "    - Otherwise the program wouldn't know who called the method and would be confused\n",
    "# Methods\n",
    "- Methods are functions that can be executed by an object of that class\n",
    "- They are defined inside the class\n",
    "- All methods (except Constructor) must have atleast one argument which is `self`\n",
    "# Constructors\n",
    "- Each class has a constructor\n",
    "- Use the constructor to define the members of the class\n",
    "- All constructors must be named `__init__`\n",
    "# Destructors\n",
    "- Having a destructor is optional as python has automatic memory management\n",
    "- The destructor is used to define the behaviour of the object when it is destroyed\n",
    "- It is useful in cases where the object:\n",
    "    - Handles external resources like files or network connections, you might need to ensure these are properly closed when the object is no longer needed\n",
    "    - Needs to perform certain actions (like saving data or logging) right before an object is destroyed\n",
    "# Syntax for Class:"
   ]
  },
  {
   "cell_type": "code",
   "execution_count": null,
   "metadata": {},
   "outputs": [],
   "source": [
    "class Person:\n",
    "    def __init__(self, name, age):\n",
    "        self.name = name \n",
    "        self.age = age\n",
    "        # Creates 'self.name' and 'self.age' variables that belong to the object \n",
    "        # and assign them the values 'name' and 'age' which are given by the user during initialization\n",
    "    \n",
    "    def say_hello(self):\n",
    "        print(f\"Hello, my name is {self.name}\")\n",
    "    \n",
    "    def get_age(self):\n",
    "        return self.age\n",
    "    \n",
    "    def __del__(self):\n",
    "        print(\"Destructor called, Person object deleted\")\n",
    "    \n",
    "\n",
    "def main():\n",
    "    person1 = Person('John', 69) # Name: 'John', Age: 69\n",
    "    person1.say_hello()\n",
    "    person1_age = person1.get_age()\n",
    "    print(person1_age)\n",
    "    del person1\n",
    "    person1.say_hello() # Gives error because person1 is already deleted\n",
    "\n",
    "\n",
    "main()"
   ]
  },
  {
   "cell_type": "markdown",
   "metadata": {},
   "source": [
    "# Method Overloading\n",
    "- Method overloading allows a method to handle different numbers of arguments\n",
    "- It uses default arguments and can be called in flexible ways (with/without args)\n",
    "## Method Overloading Example"
   ]
  },
  {
   "cell_type": "code",
   "execution_count": 2,
   "metadata": {},
   "outputs": [
    {
     "name": "stdout",
     "output_type": "stream",
     "text": [
      "Hello Yash\n"
     ]
    }
   ],
   "source": [
    "class Person:\n",
    "    def Hello(self, name=None):\n",
    "        if name != None:\n",
    "            print('Hello ' + name)\n",
    "        else:\n",
    "            print('Hello ')\n",
    "            \n",
    "\n",
    "nigga = Person()\n",
    "nigga.Hello(\"Yash\")"
   ]
  },
  {
   "cell_type": "markdown",
   "metadata": {},
   "source": [
    "# Method Overriding\n",
    "- Method Overriding allows a subclass to provide a specific implementation of a method already defined in its superclass. \n",
    "- This is a direct use of inheritance.\n",
    "## Method Overriding Example"
   ]
  },
  {
   "cell_type": "code",
   "execution_count": 3,
   "metadata": {},
   "outputs": [
    {
     "name": "stdout",
     "output_type": "stream",
     "text": [
      "Hello, I am the parent class\n",
      "Hello, I am the child class\n"
     ]
    }
   ],
   "source": [
    "class Animal:\n",
    "    def walk(self):\n",
    "        print('Hello, I am the parent class')\n",
    "\n",
    "class Dog(Animal):\n",
    "    def walk(self):\n",
    "        print('Hello, I am the child class')\n",
    "\n",
    "\n",
    "a = Animal()\n",
    "a.walk() # I am parent class\n",
    "b = Dog()\n",
    "b.walk() # I am child class"
   ]
  },
  {
   "cell_type": "markdown",
   "metadata": {},
   "source": [
    "# Members\n",
    "- Members can be of 2 types:\n",
    "    - Instance Members\n",
    "    - Class Members\n",
    "## Instance Members\n",
    "- They are specific to each object\n",
    "### Example of Instance Members"
   ]
  },
  {
   "cell_type": "code",
   "execution_count": 4,
   "metadata": {},
   "outputs": [
    {
     "name": "stdout",
     "output_type": "stream",
     "text": [
      "Name: Adi, Roll No: 18\n",
      "Name: Jash, Roll No: 10\n"
     ]
    }
   ],
   "source": [
    "class Student:\n",
    "    def __init__(self, name, roll):\n",
    "        self.name = name \n",
    "        self.roll = roll\n",
    "        # Creates 'self.name' and 'self.roll' variables that belong to the object \n",
    "        # and assign them the values 'name' and 'roll' which are given by the user during initialization\n",
    "    \n",
    "    def show(self):\n",
    "        print(f\"Name: {self.name}, Roll No: {self.roll}\")\n",
    "\n",
    "\n",
    "s1 = Student('Adi', 18)\n",
    "s2 = Student('Jash', 10)\n",
    "s1.show() # Name: Adi, Roll No: 18\n",
    "s2.show() # Name: Jash, Roll No: 10"
   ]
  },
  {
   "cell_type": "markdown",
   "metadata": {},
   "source": [
    "## Class Members\n",
    "- They are shared across all instances\n",
    "- Can be overridden for a instance\n",
    "- Instances where class members are overridden are not affected by further class variable changes for the overridden variable\n",
    "### Example of Class Members"
   ]
  },
  {
   "cell_type": "code",
   "execution_count": 5,
   "metadata": {},
   "outputs": [
    {
     "name": "stdout",
     "output_type": "stream",
     "text": [
      "Name: Yash, Roll No: 11, School: MPSTME\n",
      "Name: Param, Roll No: 4, School: MPSTME\n",
      "Name: Yash, Roll No: 11, School: Mithibai\n",
      "Name: Param, Roll No: 4, School: Mithibai\n",
      "Name: Yash, Roll No: 11, School: NMIMS\n",
      "Name: Param, Roll No: 4, School: Mithibai\n",
      "Name: Yash, Roll No: 11, School: NMIMS\n",
      "Name: Param, Roll No: 4, School: random\n"
     ]
    }
   ],
   "source": [
    "class Student:\n",
    "    # Class Members\n",
    "    school = 'MPSTME'\n",
    "    # 'school' is a shared attribute/variable/member of all the instances/objects of Student\n",
    "    \n",
    "    def __init__(self, name, roll):\n",
    "        self.name = name \n",
    "        self.roll = roll\n",
    "        # Creates 'self.name' and 'self.roll' variables that belong to the object \n",
    "        # and assign them the values 'name' and 'roll' which are given by the user during initialization\n",
    "    \n",
    "    def show(self):\n",
    "        print(f\"Name: {self.name}, Roll No: {self.roll}, School: {self.school}\")\n",
    "\n",
    "\n",
    "s1 = Student('Yash', 11)\n",
    "s2 = Student('Param', 4)\n",
    "s1.show() # School: MPSTME\n",
    "s2.show() # School: MPSTME\n",
    "# Both have the same school\n",
    "\n",
    "Student.school = 'Mithibai'\n",
    "# Changing the CLASS' school attribute\n",
    "\n",
    "s1.show() # School: Mithibai\n",
    "s2.show() # School: Mithibai\n",
    "# Both s1 and s2's school changes\n",
    "\n",
    "s1.school = 'NMIMS'\n",
    "# Creating a instance attr for s1, s1.school which overrides its class attr Student.school\n",
    "\n",
    "s1.show() # School: NMIMS\n",
    "s2.show() # School: Mithibai\n",
    "# Doesn't affect s2, but s1's school is overwritten to 'NMIMS'\n",
    "\n",
    "Student.school = 'random'\n",
    "# Changing the CLASS attr again\n",
    "\n",
    "s1.show() # School: NMIMS\n",
    "s2.show() # School: random\n",
    "# s1 is not affected as its class variable is overridden by the instance variable school = 'NMIMS'\n",
    "# s2 is affected because it doesn't have a instance variable which overrides its class variable"
   ]
  },
  {
   "cell_type": "markdown",
   "metadata": {},
   "source": [
    "# Constructors:\n",
    "- There are 3 types:\n",
    "    - Default Constructor\n",
    "    - Non-Parameterized Constructor\n",
    "    - Parameterized Constructor\n",
    "## Default Constructor\n",
    "- A default constructor in Python is one that is automatically provided by Python if you don't define any constructor in your class\n",
    "- It doesn't do anything special and doesn't take any parameters\n",
    "- It's suitable for classes where objects don't need any external data to be initialized\n",
    "### Default Constructor Example"
   ]
  },
  {
   "cell_type": "code",
   "execution_count": null,
   "metadata": {},
   "outputs": [],
   "source": [
    "class Employee:\n",
    "    def display(self):\n",
    "        print('Inside Display')\n",
    "        \n",
    "\n",
    "emp = Employee()\n",
    "emp.display()"
   ]
  },
  {
   "cell_type": "markdown",
   "metadata": {},
   "source": [
    "## Non-Paramterized Constructor\n",
    "- A non-parameterized constructor is explicitly defined by you, but it doesn't take any arguments. \n",
    "- It can set up default values for instance attributes.\n",
    "- Useful when you want to initialize objects with the same default state, like setting initial values for attributes that are the same for every instance.\n",
    "### Non-Paramterized Constructor Example"
   ]
  },
  {
   "cell_type": "code",
   "execution_count": 7,
   "metadata": {},
   "outputs": [
    {
     "name": "stdout",
     "output_type": "stream",
     "text": [
      "Name: A Address: My Street\n"
     ]
    }
   ],
   "source": [
    "class Company:\n",
    "    # No-argument constructor \n",
    "    def __init__(self):\n",
    "        self.name = \"ABC XYZ\"\n",
    "        self.address = \"My Street\"\n",
    "        \n",
    "    # A method for printing data members\n",
    "    def show(self):\n",
    "        print('Name:', self.name, 'Address:', self.address)\n",
    "        \n",
    "\n",
    "# Creating object of the class\n",
    "cmp = Company()\n",
    "# Calling the instance method using the object\n",
    "\n",
    "cmp.show()"
   ]
  },
  {
   "cell_type": "markdown",
   "metadata": {},
   "source": [
    "## Parameterized Constructor\n",
    "- A parameterized constructor is one that you define with parameters. \n",
    "- It allows you to pass arguments to the constructor to initialize object attributes with specific values.\n",
    "- Essential when you need to create objects with different initial values. \n",
    "- It provides the flexibility to initialize each object's attributes with specific data.\n",
    "### Parameterized Constructor Example"
   ]
  },
  {
   "cell_type": "code",
   "execution_count": 8,
   "metadata": {},
   "outputs": [
    {
     "name": "stdout",
     "output_type": "stream",
     "text": [
      "Emma 23 7500\n",
      "Kelly 25 8500\n"
     ]
    }
   ],
   "source": [
    "class Employee:\n",
    "    # Parameterized constructor\n",
    "    def __init__(self, name, age, salary):\n",
    "        self.name = name\n",
    "        self.age = age\n",
    "        self.salary = salary\n",
    "    # Display object\n",
    "    def show(self):\n",
    "        print(self.name, self.age, self .salary)\n",
    "    \n",
    "\n",
    "# Creating object of the Employee class\n",
    "emma = Employee('Emma', 23, 7500)\n",
    "emma.show()\n",
    "kelly = Employee('Kelly', 25, 8500)\n",
    "kelly.show()"
   ]
  },
  {
   "cell_type": "markdown",
   "metadata": {},
   "source": [
    "# Inheritance\n",
    "- The process of a child class inheriting the parent class' properties is called inheritance\n",
    "- The parent class is also known as the base class\n",
    "- The child class is also known as the subclass or derived class\n",
    "## Types of Inheritance\n",
    "1. Single Inheritance\n",
    "2. Multiple Inheritance\n",
    "## Single Inheritance\n",
    "- 1 Child class is derived from 1 Parent class\n",
    "### Single Inheritance Example"
   ]
  },
  {
   "cell_type": "code",
   "execution_count": 11,
   "metadata": {},
   "outputs": [
    {
     "name": "stdout",
     "output_type": "stream",
     "text": [
      "Value: param\n",
      "Inside Vehicle class\n",
      "Value: param\n",
      "Inside Car class\n"
     ]
    }
   ],
   "source": [
    "# Base class\n",
    "class Vehicle:\n",
    "    def Vehicle_info(self):\n",
    "        print('Inside Vehicle class')\n",
    "\n",
    "# Child class\n",
    "class Car(Vehicle):\n",
    "    def car_info(self):\n",
    "        print('Inside Car class')\n",
    "\n",
    "# Create object of Car\n",
    "car = Car()\n",
    "# access Vehicle's info using car object\n",
    "car.Vehicle_info()\n",
    "car.car_info()"
   ]
  },
  {
   "cell_type": "markdown",
   "metadata": {},
   "source": [
    "## Multiple Inheritance\n",
    "- In multiple inheritance, one child class can inherit from multiple parent classes"
   ]
  },
  {
   "cell_type": "code",
   "execution_count": 12,
   "metadata": {},
   "outputs": [
    {
     "name": "stdout",
     "output_type": "stream",
     "text": [
      "Inside Person class\n",
      "Name: Jessa Age: 28\n",
      "Inside Company class\n",
      "Name: Google Location: Atlanta\n",
      "Inside Employee class\n",
      "Salary: 12000 Skill: Machine Learning\n",
      "Nigga: niggardy, Balls: bollocks\n"
     ]
    }
   ],
   "source": [
    "class Person:\n",
    "    def __init__(self):\n",
    "        self.nigga = \"niggardy\"\n",
    "        self.balls = \"bollocks\"\n",
    "        \n",
    "    def person_info(self, name, age):\n",
    "        print('Inside Person class')\n",
    "        print ('Name:', name, 'Age:', age)\n",
    "\n",
    "# Parent class 2\n",
    "class Company:\n",
    "    def __init__(self):\n",
    "        self.nigga = \"nigga\"\n",
    "        self.balls = \"balls\"\n",
    "        \n",
    "    def company_info(self, company_name, location):\n",
    "        print('Inside Company class') \n",
    "        print('Name:', company_name, 'Location:', location)\n",
    "\n",
    "# Child class\n",
    "class Employee(Person, Company):\n",
    "    def Employee_info(self, salary, skill):\n",
    "        print('Inside Employee class')\n",
    "        print('Salary:', salary, 'Skill:', skill)\n",
    "        \n",
    "    def show(self):\n",
    "        print(f\"Nigga: {self.nigga}, Balls: {self.balls}\")\n",
    "\n",
    "# Create object of Employee\n",
    "emp = Employee()\n",
    "# access data\n",
    "emp.person_info('Jessa', 28)\n",
    "emp.company_info('Google', 'Atlanta')\n",
    "emp.Employee_info(12000, 'Machine Learning')\n",
    "emp.show()\n"
   ]
  },
  {
   "cell_type": "markdown",
   "metadata": {},
   "source": [
    "# Exception Handling\n",
    "- Exception handling in Python is a technique used to manage errors that occur during the execution of a program. \n",
    "- It's designed to handle situations where the code might encounter a problem, like an invalid input or a computational error, without stopping the entire program.\n",
    "## Exception Handling Components\n",
    "- Try Block: Catches the error\n",
    "- Except Block: Executes when error is triggered in try block\n",
    "- Else Block: Executes only if no error is triggered in try block\n",
    "- Finally Block: Always executes regardless of anything else\n",
    "## Syntax/Usage:"
   ]
  },
  {
   "cell_type": "code",
   "execution_count": null,
   "metadata": {},
   "outputs": [],
   "source": [
    "try:\n",
    "    # Code that might cause an error\n",
    "    result = 10 / 0 \n",
    "except ZeroDivisionError:\n",
    "    # Handling a specific error\n",
    "    print(\"Cannot divide by zero.\")\n",
    "else:\n",
    "    # Executed only if try block is successful\n",
    "    print(\"Division successful!\")\n",
    "finally:\n",
    "    # Always executed\n",
    "    print(\"This is always executed.\")"
   ]
  },
  {
   "cell_type": "markdown",
   "metadata": {},
   "source": [
    "## Ignoring Exceptions\n",
    "- You can ignore exceptions writing the pass\n",
    "## Syntax/Usage:"
   ]
  },
  {
   "cell_type": "code",
   "execution_count": null,
   "metadata": {},
   "outputs": [],
   "source": [
    "try:\n",
    "    result = 10/0\n",
    "except ZeroDivisionError:\n",
    "    pass"
   ]
  },
  {
   "cell_type": "markdown",
   "metadata": {},
   "source": [
    "## Raising Exceptions\n",
    "- You can also raise custom exceptions for various purposes\n",
    "## Syntax/Usage:"
   ]
  },
  {
   "cell_type": "code",
   "execution_count": null,
   "metadata": {},
   "outputs": [],
   "source": [
    "try:\n",
    "    raise ValueError(\"This is a custom error message.\")\n",
    "except ValueError as ve:\n",
    "    print(\"An error occurred:\", str(ve))"
   ]
  },
  {
   "cell_type": "code",
   "execution_count": null,
   "metadata": {},
   "outputs": [],
   "source": [
    "def sqrt(x):\n",
    "    if x < 0:\n",
    "        raise ValueError(\"Cannot compute square root of a negative number.\")\n",
    "    else:\n",
    "        return x ** 0.5\n",
    "    \n",
    "try:\n",
    "    print(sqrt(-10))\n",
    "except ValueError as e:\n",
    "    print(\"An error occurred:\", str(e))"
   ]
  },
  {
   "cell_type": "markdown",
   "metadata": {},
   "source": [
    "## Types of Exceptions\n",
    "- `SyntaxError`: Incorrect Python syntax.\n",
    "- `TypeError`: Inappropriate data type.\n",
    "- `NameError`: Undefined variable/function.\n",
    "- `IndexError`: Out-of-range index for sequences.\n",
    "- `KeyError`: Key not found in dictionary.\n",
    "- `ValueError`: Wrong value type for operation.\n",
    "- `AttributeError`: Attribute/method not found.\n",
    "- `IOError`: Input/output operation failure.\n",
    "- `ZeroDivisionError`: Division by zero.\n",
    "- `ImportError`: Module load failure."
   ]
  },
  {
   "cell_type": "markdown",
   "metadata": {},
   "source": [
    "# Resources\n",
    "- Lab 11\n",
    "- PF9_Class Object.pdf on teams\n",
    "- PF4_Exception Handling.pdf on teams"
   ]
  },
  {
   "cell_type": "markdown",
   "metadata": {},
   "source": [
    "# Practice Questions\n"
   ]
  },
  {
   "cell_type": "markdown",
   "metadata": {},
   "source": [
    "Read two integers number from the user using int(input0) and handle the following exceptions:\n",
    "- ValueError - Occurs when input value is not an integer.\n",
    "- ZeroDivisionError - Occurs when divisor is zero.\n",
    "- Exception - Any other error."
   ]
  },
  {
   "cell_type": "code",
   "execution_count": null,
   "metadata": {},
   "outputs": [],
   "source": [
    "# Read two integers number from the user using int(input0) and handle the following exceptions:\n",
    "# - ValueError - Occurs when input value is not an integer.\n",
    "# - ZeroDivisionError - Occurs when divisor is zero.\n",
    "# - Exception - Any other error.\n",
    "\n",
    "while True:\n",
    "    try:\n",
    "        num1 = int(input(\"Enter the first number \"))\n",
    "        num2 = int(input(\"Enter the second number \"))\n",
    "        print(f\"{num1/num2:.3f}\")\n",
    "        break\n",
    "    except ValueError:\n",
    "        print(\"Error!\")\n",
    "        print(\"Please enter a proper number!\")\n",
    "    except ZeroDivisionError:\n",
    "        print(\"Error!\")\n",
    "        print(\"Division by zero is not possible!\")\n",
    "        \n",
    "    except Exception as e:\n",
    "        print()\n",
    "        print(f\"Error Occured {e}\")"
   ]
  },
  {
   "cell_type": "markdown",
   "metadata": {},
   "source": [
    "Write a factorial function and raise a ValueError with a custom message if input isnt integer or is negative"
   ]
  },
  {
   "cell_type": "code",
   "execution_count": null,
   "metadata": {},
   "outputs": [],
   "source": [
    "# Write a factorial function and raise a ValueError with a custom message if input isnt integer or is negative\n",
    "import math\n",
    "def fact(num):\n",
    "    if not (isinstance(num, int)):\n",
    "        raise ValueError(\"Factorial must be of an integer!\")\n",
    "    elif num < 0:\n",
    "        raise ValueError(\"Factorial can not be negative!\")\n",
    "    else:\n",
    "        return (math.factorial(num))\n",
    "        \n",
    "    \n",
    "def main():\n",
    "    val = int(input(\"Enter a number \")) \n",
    "    # val = \"a\" # to test int value error\n",
    "    print(fact(val))\n",
    "\n",
    "if __name__ == \"__main__\":\n",
    "    main()"
   ]
  },
  {
   "cell_type": "markdown",
   "metadata": {},
   "source": [
    "Write a Python class named Student with two attributes student_id, student_name. Add a new attribute student_class. Create a function to display the entire attribute and their values in Student class with exception handling."
   ]
  },
  {
   "cell_type": "code",
   "execution_count": 4,
   "metadata": {},
   "outputs": [
    {
     "name": "stdout",
     "output_type": "stream",
     "text": [
      "student_id: 4\n",
      "student_name: Param\n",
      "student_class: IT\n",
      "student_grade: A\n"
     ]
    }
   ],
   "source": [
    "# Write a Python class named Student with two attributes student_class, student_name. Add a new attribute student_class. \n",
    "# Create a function to display the entire attribute and their values in Student class with exception handling.\n",
    "\n",
    "class Student:\n",
    "    def __init__(self, student_id, student_name):\n",
    "        self.student_id = student_id\n",
    "        self.student_name = student_name\n",
    "\n",
    "    def displayStudent(self):\n",
    "        try:\n",
    "            for attr, value in self.__dict__.items():\n",
    "                print(f\"{attr}: {value}\")\n",
    "        except Exception as e:\n",
    "            print(\"Error occurred:\", e)\n",
    "\n",
    "# Usage\n",
    "student1 = Student(\"4\", \"Param\")\n",
    "student1.student_class = \"IT\"\n",
    "# Adding another attribute for demonstration\n",
    "student1.student_grade = \"A\"\n",
    "student1.displayStudent()"
   ]
  },
  {
   "cell_type": "markdown",
   "metadata": {},
   "source": [
    "Write a Python class named Circle with constructor for radius and two methods which will compute the area and the perimeter of a circle."
   ]
  },
  {
   "cell_type": "code",
   "execution_count": null,
   "metadata": {},
   "outputs": [],
   "source": [
    "# Write a Python class named Circle with constructor for radius \n",
    "# and two methods which will compute the area and the perimeter of a circle.\n",
    "\n",
    "import math\n",
    "\n",
    "class Circle():\n",
    "    def __init__(self, radius):\n",
    "      self.radius = radius\n",
    "      \n",
    "    def area(self):\n",
    "        print(f\"{(math.pi * (self.radius ** 2)):.3f}\")\n",
    "        \n",
    "    def perimeter(self):\n",
    "        print(f\"{(2*math.pi* self.radius):.3f}\")\n",
    "    \n",
    "          \n",
    "circ1 = Circle(69)\n",
    "circ1.area()\n",
    "circ1.perimeter()"
   ]
  },
  {
   "cell_type": "markdown",
   "metadata": {},
   "source": [
    "Write a function to calculate simple interest which takes amount, year and rate as input and throws an exception if interest rate is greater than 100."
   ]
  },
  {
   "cell_type": "code",
   "execution_count": null,
   "metadata": {},
   "outputs": [],
   "source": [
    "# Write a function to calculate simple interest which takes amount, year and rate\n",
    "# as input and throws an exception if interest rate is greater than 100.\n",
    "\n",
    "\n",
    "class SimpleInterest:\n",
    "    def __init__(self, amount, year, rate):\n",
    "        if rate > 100:\n",
    "            raise ValueError(\"Interest can not be greater than 100\")\n",
    "        self.amount = amount\n",
    "        self.year = year\n",
    "        self.rate = rate\n",
    "\n",
    "    def calculate_interest(self):\n",
    "        print(f\"Simple Interest: {self.amount * self.year * self.rate:.3f}\")\n",
    "\n",
    "\n",
    "si = SimpleInterest(420, 6, 9)\n",
    "si.calculate_interest()"
   ]
  },
  {
   "cell_type": "markdown",
   "metadata": {},
   "source": [
    "WAP for method overriding & overloading of below diagram with exception handling\n",
    "\n",
    "![image.png](../images/class-p4.png)"
   ]
  },
  {
   "cell_type": "code",
   "execution_count": null,
   "metadata": {},
   "outputs": [],
   "source": []
  },
  {
   "cell_type": "markdown",
   "metadata": {},
   "source": [
    "WAP to create a Derived class from 2 Parent classes. The derived class should override one of the parent class' methods."
   ]
  },
  {
   "cell_type": "code",
   "execution_count": null,
   "metadata": {},
   "outputs": [],
   "source": [
    "# WAP to create a Derived class from 2 Parent classes. The derived class should override one of the parent class' methods.\n",
    "class Person():\n",
    "    def __init__(self, name, age, gender):\n",
    "        self.name = name\n",
    "        self.age = age\n",
    "        self.gender = gender\n",
    "\n",
    "    def show_personal_info(self):\n",
    "        print()\n",
    "        print(\"Personal info:\")\n",
    "        print(f\"Name: {self.name}\")\n",
    "        print(f\"Age: {self.age}\")\n",
    "        print(f\"Gender: {self.gender}\")\n",
    "\n",
    "\n",
    "class Student():\n",
    "    def __init__(self, rollno, gpa):\n",
    "        self.rollno = rollno\n",
    "        self.gpa = gpa\n",
    "\n",
    "    def show_academic_info(self):\n",
    "        print(\"I am an university student!\")\n",
    "        print(f\"Roll No: {self.rollno}\")\n",
    "        print(f\"University Name: {self.uniname}\")\n",
    "        print(f\"GPA: {self.gpa}\")\n",
    "\n",
    "class SVKMStudent(Person, Student):\n",
    "    def __init__(self, name, age, gender, rollno, gpa, college, degree, stream, year, sapid):\n",
    "        # Call the constructors of the parent classes\n",
    "        Person.__init__(self, name, age, gender)\n",
    "        Student.__init__(self, rollno, gpa)\n",
    "\n",
    "        # Initialize SVKMStudent's own attributes\n",
    "        self.college = college\n",
    "        self.degree = degree\n",
    "        self.stream = stream\n",
    "        self.year = year\n",
    "        self.sapid = sapid\n",
    "\n",
    "      \n",
    "    def show_academic_info(self):\n",
    "        print()\n",
    "        print(\"Academic Info: \")\n",
    "        # Print information from the Student parent class\n",
    "        print(f\"Roll No: {self.rollno}\")\n",
    "        print(f\"GPA: {self.gpa}\")\n",
    "\n",
    "        # Print SVKMStudent's own academic information\n",
    "        print(f\"College: {self.college}\")\n",
    "        print(f\"Degree: {self.degree}\")\n",
    "        print(f\"Stream: {self.stream}\")\n",
    "        print(f\"Year: {self.year}\")\n",
    "        print(f\"SAP ID: {self.sapid}\")\n",
    "\n",
    "        \n",
    "      \n",
    "stud = SVKMStudent(\"Param\", \"18\", \"Male\", \"F004\", \"3.0\", \"MPSTME\", \"BTI\", \"IT\", \"3\", \"70372100050\")\n",
    "stud.show_academic_info()\n",
    "stud.show_personal_info()"
   ]
  }
 ],
 "metadata": {
  "kernelspec": {
   "display_name": "Python 3",
   "language": "python",
   "name": "python3"
  },
  "language_info": {
   "codemirror_mode": {
    "name": "ipython",
    "version": 3
   },
   "file_extension": ".py",
   "mimetype": "text/x-python",
   "name": "python",
   "nbconvert_exporter": "python",
   "pygments_lexer": "ipython3",
   "version": "3.10.12"
  }
 },
 "nbformat": 4,
 "nbformat_minor": 2
}
