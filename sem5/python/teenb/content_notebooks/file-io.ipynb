{
 "cells": [
  {
   "cell_type": "markdown",
   "metadata": {},
   "source": [
    "# YOU CAN RUN CODES AFTER PERFORMING OPERATIONS ON A FILE HEADING!!!!!!!"
   ]
  },
  {
   "cell_type": "markdown",
   "metadata": {},
   "source": [
    "# Performing File I/O in Python:\n",
    "1. Open the file : Opening a file creates a connection between the file and the program.\n",
    "2. Process the file : In this step data is either written to the file (if it is an output file) or read from the file (if it is an input file).\n",
    "3. Close the file : When the program is finished using the file, the file must be closed. Closing a file disconnects the file from the program."
   ]
  },
  {
   "cell_type": "markdown",
   "metadata": {},
   "source": [
    "# Opening and Closing a File:\n",
    "- A file that is opened must always be closed with the `close()` function\n",
    "## `open()` Function\n",
    "- A file can be opened in python using the `open()` function\n",
    "- Returns a file object and associates it with a file on the disk\n",
    "- There are multiple modes in which a file can be opened (read, write, append).\n",
    "## `close()` Function\n",
    "- Closes file objects in python \n",
    "### Syntax:"
   ]
  },
  {
   "cell_type": "code",
   "execution_count": null,
   "metadata": {},
   "outputs": [],
   "source": [
    "my_file = open(filename, mode)\n",
    "\n",
    "# OR\n",
    "\n",
    "with open (filename, mode) as my_file:\n",
    "    pass\n",
    "    # Some code here during which the file is open\n",
    "    \n",
    "# File is automatically closed outisde here"
   ]
  },
  {
   "cell_type": "markdown",
   "metadata": {},
   "source": [
    "- When normally opening a file such as the first method shown above, you must close the file with `close(filename)`\n",
    "- Using the `with` keyword to open files as shown above automatically closes the files after its scope ends"
   ]
  },
  {
   "cell_type": "markdown",
   "metadata": {},
   "source": [
    "## File Access Modes:\n",
    "- A file can be accessed in multiple modes such as read, write and append.\n",
    "- There are more but exam ke liye this is enough.\n",
    "\n",
    "| Mode | Description |\n",
    "|------|-------------|\n",
    "|r     |It opens an existing file to read-only mode. The file pointer exists at the beginning.|\n",
    "|w     |It opens the file to write only. It overwrites the file if previously exists or creates a new one if no file exists with the same name.|\n",
    "|a     |It opens the file in the append mode. It will not override existing data. It creates a new file if no file exists with the same name.|\n"
   ]
  },
  {
   "cell_type": "markdown",
   "metadata": {},
   "source": [
    "### Read Mode:\n",
    "- It opens an existing file in read-only mode\n",
    "- It starts reading the file from the beginning\n",
    "- If file doesn't already exist, then it will give ~~gaali~~ error\n",
    "#### Syntax:"
   ]
  },
  {
   "cell_type": "code",
   "execution_count": null,
   "metadata": {},
   "outputs": [],
   "source": [
    "my_file = open(\"cat.txt\", \"r\")\n",
    "\n",
    "# OR\n",
    "\n",
    "with open(\"cat.txt\", \"r\") as my_file:\n",
    "    pass\n",
    "    # some code here"
   ]
  },
  {
   "cell_type": "markdown",
   "metadata": {},
   "source": [
    "### Write Mode:\n",
    "- It opens an existing file in write-only mode.\n",
    "- It will start writing to the file from the start.\n",
    "- If the file doesn't already exist, it will create it.\n",
    "- If the file exists and has some data on it, that data will be overwritten.\n",
    "#### Syntax:"
   ]
  },
  {
   "cell_type": "code",
   "execution_count": null,
   "metadata": {},
   "outputs": [],
   "source": [
    "my_file = open(\"meow.txt\", \"w\")\n",
    "\n",
    "# OR\n",
    "\n",
    "with open(\"meow.txt\", \"w\") as my_file:\n",
    "    pass\n",
    "    # some code here"
   ]
  },
  {
   "cell_type": "markdown",
   "metadata": {},
   "source": [
    "### Append Mode:\n",
    "- It opens an existing file in append mode.\n",
    "- It will start writing to the file from the end of the file.\n",
    "- If the file doesn't already exist, it will create it and write from beginning.\n",
    "- If the file is existing but empty, it will start writing from the beginning.\n",
    "- If data already exists on file, it won't be overwritten.\n",
    "#### Syntax:"
   ]
  },
  {
   "cell_type": "code",
   "execution_count": null,
   "metadata": {},
   "outputs": [],
   "source": [
    "my_file = open(\"dog.txt\", \"a\")\n",
    "\n",
    "# OR\n",
    "\n",
    "with open(\"dog2.txt\", \"a\") as my_file:\n",
    "    pass\n",
    "    # some code here"
   ]
  },
  {
   "cell_type": "markdown",
   "metadata": {},
   "source": [
    "# Performing Operations on File:\n",
    "- After the file is opened, operations can be performed on it, such as:\n",
    "\n",
    "| Method    | Description                       |\n",
    "|-----------|-----------------------------------|\n",
    "| read()    | Returns the file content.         |\n",
    "| readline()| Read single line                  |\n",
    "| readlines()| Read file into a list            |\n",
    "| write()   | Writes the specified string to the file.|\n",
    "| writelines()| Writes a list of strings to the file.|\n",
    "| tell()    | Returns the current file location.|\n",
    "| seek()    | Set file pointer position in a file|"
   ]
  },
  {
   "cell_type": "markdown",
   "metadata": {},
   "source": [
    "## `read()`\n",
    "- Returns the file content as a string\n",
    "- Reads the whole file at once\n",
    "### Syntax/Usage:"
   ]
  },
  {
   "cell_type": "code",
   "execution_count": null,
   "metadata": {},
   "outputs": [],
   "source": [
    "with open(\"../files/filereading.txt\", \"r\") as my_file:\n",
    "    spicy_text = my_file.read()\n",
    "    print(spicy_text) # Prints the text inside \"filereading.txt\""
   ]
  },
  {
   "cell_type": "markdown",
   "metadata": {},
   "source": [
    "## `readline()`\n",
    "- Returns a single line\n",
    "- Reads the file line by line\n",
    "### Syntax/Usage:"
   ]
  },
  {
   "cell_type": "code",
   "execution_count": null,
   "metadata": {},
   "outputs": [],
   "source": [
    "with open(\"../files/file-readline.txt\", \"r\") as my_file:\n",
    "    spicy_text = my_file.readline()\n",
    "    print(spicy_text) # Prints the first line inside \"file-readline.txt\""
   ]
  },
  {
   "cell_type": "markdown",
   "metadata": {},
   "source": [
    "## `readlines()`\n",
    "- Returns a list containing all the lines of the file\n",
    "- If file is empty, it returns a empty list\n",
    "### Syntax/Usage:"
   ]
  },
  {
   "cell_type": "code",
   "execution_count": null,
   "metadata": {},
   "outputs": [],
   "source": [
    "with open(\"../files/file-readline.txt\", \"r\") as my_file:\n",
    "    spicy_text = my_file.readlines()\n",
    "    for spicy_line in spicy_text: # Prints a list containing all the lines inside \"file-readline.txt\"\n",
    "        print(spicy_line)"
   ]
  },
  {
   "cell_type": "markdown",
   "metadata": {},
   "source": [
    "## `write()`\n",
    "- Writes the specified string to the file\n",
    "- Overwrites the file if file is opened in write mode\n",
    "- Appends to the file if file is opened in append mode\n",
    "### Syntax/Usage:"
   ]
  },
  {
   "cell_type": "code",
   "execution_count": null,
   "metadata": {},
   "outputs": [],
   "source": [
    "my_text = \"guide to animals\"\n",
    "with open(\"../files/file-writing.txt\", \"w\") as my_file:\n",
    "    my_file.write(my_text) # Writes \"guide to animals\" to the file"
   ]
  },
  {
   "cell_type": "markdown",
   "metadata": {},
   "source": [
    "## `writelines()`\n",
    "- Writes the a list of strings to the file\n",
    "- Overwrites the file if file is opened in write mode\n",
    "- Appends to the file if file is opened in append mode\n",
    "### Syntax/Usage:"
   ]
  },
  {
   "cell_type": "code",
   "execution_count": null,
   "metadata": {},
   "outputs": [],
   "source": [
    "my_text = [\"guide to nerds 🤓\", \"nvm it's impossible 😔\"]\n",
    "lines_with_newlines = [line + \"\\n\" for line in my_text]\n",
    "with open(\"../files/file-writing.txt\", \"w\") as my_file:\n",
    "    my_file.writelines(lines_with_newlines)\n"
   ]
  },
  {
   "cell_type": "markdown",
   "metadata": {},
   "source": [
    "## `tell()`\n",
    "- Returns the current file location\n",
    "- It specifically returns the number of bytes the current position is from the beginning of the file\n",
    "## `seek()`\n",
    "- Changes the file pointer or current location in file\n",
    "- Takes 2 parameters, in `offset` and `from` in this way:\n",
    "- `seek(offset, [from])`\n",
    "- `[from]` indicates that its optional\n",
    "- The offset argument indicates the number of bytes to be moved. \n",
    "- The from argument specifies the reference position from where the bytes are to be moved.\n",
    "### Syntax/Usage:"
   ]
  },
  {
   "cell_type": "code",
   "execution_count": null,
   "metadata": {},
   "outputs": [],
   "source": [
    "# Open a file\n",
    "fo = open(\"../files/skillissue.txt\", \"r+\")\n",
    "my_str = fo.read(69)\n",
    "print(\"Read String is:\", my_str)\n",
    "\n",
    "# Check current position\n",
    "position = fo.tell()\n",
    "print(\"Current file position:\", position)\n",
    "\n",
    "# Reposition pointer at the beginning once again\n",
    "position = fo.seek(0,0)\n",
    "my_str = fo.read(420)\n",
    "print(\"Again read String is:\", my_str)\n",
    "# Close opend file\n",
    "fo.close()"
   ]
  },
  {
   "cell_type": "markdown",
   "metadata": {},
   "source": [
    "# Resources:\n",
    "- Lab 10\n",
    "- PF7_File Handling.pdf on teams"
   ]
  },
  {
   "cell_type": "markdown",
   "metadata": {},
   "source": [
    "# Practice Questions\n",
    "- Write a list of lines into a file using writelines() and then to print non-empty lines of the file one at a time."
   ]
  },
  {
   "cell_type": "code",
   "execution_count": null,
   "metadata": {},
   "outputs": [],
   "source": [
    "# Write a list of lines into a file using writelines() and then to print non-empty lines of the file one at a time.\n",
    "\n",
    "lines = []\n",
    "\n",
    "filename = \"ques1.txt\"\n",
    "\n",
    "while True:\n",
    "    try:\n",
    "        lines.append(input(\"Enter a line to write to the file \"))\n",
    "    except EOFError:\n",
    "        print()\n",
    "        break\n",
    "with open(filename, \"w\") as my_file:\n",
    "    my_file.writelines([text + \"\\n\" for text in lines])\n",
    "    \n",
    "with open(filename, \"r\") as my_file:\n",
    "    line = 0\n",
    "    for _ in my_file:\n",
    "        line += 1\n",
    "print(line)"
   ]
  },
  {
   "cell_type": "markdown",
   "metadata": {},
   "source": [
    "- Write a python script to continue writing to a file until user enters choice as y and then on user input n stop writing and read the file and count words in the text file those are ending with alphabet \"e\"."
   ]
  },
  {
   "cell_type": "code",
   "execution_count": null,
   "metadata": {},
   "outputs": [],
   "source": [
    "# Write a python script to continue writing to a file until user enters choice as y and then on user input n stop writing and \n",
    "# read the file and count words in the text file those are ending with alphabet \"e\".\n",
    "\n",
    "# write as long as user chooses y\n",
    "# asap user chooses n, stop writing\n",
    "# then read the file and count words ending with `e`\n",
    "\n",
    "filename = \"ques2.txt\"\n",
    "e_count = 0\n",
    "\n",
    "# clearing existng file\n",
    "with open(filename, \"w\") as my_file:\n",
    "            my_file.write(\"\")\n",
    "\n",
    "while True:\n",
    "    choice = input(\"Enter y if you want to write to the file and n if you want to exit \")\n",
    "    if choice.lower() == \"y\":\n",
    "        text = input(\"Enter text you want to add to the file \")\n",
    "        with open(filename, \"a\") as my_file:\n",
    "            my_file.write(text+\"\\n\")\n",
    "    elif choice.lower() == \"n\":\n",
    "        print()\n",
    "        break\n",
    "    else:\n",
    "        print(\"Invalid choice!\")\n",
    "        print(\"Please select y or n\")\n",
    "        \n",
    "print(\"File Statistics:\")\n",
    "with open(filename, \"r\") as my_file:\n",
    "    for line in my_file:\n",
    "        for word in line:\n",
    "            if word[-1] == \"e\":\n",
    "                e_count += 1\n",
    "print(e_count)"
   ]
  },
  {
   "cell_type": "markdown",
   "metadata": {},
   "source": [
    "- Write a python script to count the number of lines from a text file which is not starting with an alphabet \"T\"."
   ]
  },
  {
   "cell_type": "code",
   "execution_count": null,
   "metadata": {},
   "outputs": [],
   "source": [
    "# Write a python script to count the number of lines from a text file which is not starting with an alphabet \"T\".\n",
    "\n",
    "proper_lines = 0\n",
    "filename = \"ques3.txt\"\n",
    "\n",
    "with open(filename, \"r\") as my_file:\n",
    "    for line in my_file:\n",
    "        if line[0][0] != \"T\" and line[0][0] != \"t\": # assuming case insensitivty\n",
    "            proper_lines += 1\n",
    "        \n",
    "print(proper_lines)"
   ]
  },
  {
   "cell_type": "markdown",
   "metadata": {},
   "source": [
    "- Write a python script to delete the specified line giving the line number from the text file."
   ]
  },
  {
   "cell_type": "code",
   "execution_count": null,
   "metadata": {},
   "outputs": [],
   "source": [
    "# Write a python script to delete the specified line giving the line number from the text file.\n",
    "\n",
    "read_lines = []\n",
    "filename = \"ques4.txt\"\n",
    "line_count = 0\n",
    "\n",
    "with open(filename, \"r\") as my_file:\n",
    "    for line in my_file:\n",
    "        read_lines.append(line)\n",
    "        line_count += 1\n",
    "\n",
    "print(f\"Number of lines in file: {line_count}\")\n",
    "\n",
    "\n",
    "while True: # error checking to make sure proper input\n",
    "    try:\n",
    "        removal_line = int(input(\"Enter the line to be removed: \"))\n",
    "        if removal_line <= 0 or removal_line > line_count:\n",
    "            print(\"Line Number can not be zero, negative or greater than lines in the file!\")\n",
    "        else:\n",
    "            break\n",
    "    except ValueError:\n",
    "        print(\"Enter a valid number!\")\n",
    "    \n",
    "\n",
    "\n",
    "with open(filename, \"w\") as my_file:\n",
    "    line_count = 0\n",
    "    for line in read_lines:\n",
    "        line_count += 1\n",
    "        if (line_count != removal_line):\n",
    "            my_file.write(line)\n",
    "        else:\n",
    "            print(f\"Line Removed: {line}\")"
   ]
  }
 ],
 "metadata": {
  "kernelspec": {
   "display_name": "Python 3",
   "language": "python",
   "name": "python3"
  },
  "language_info": {
   "codemirror_mode": {
    "name": "ipython",
    "version": 3
   },
   "file_extension": ".py",
   "mimetype": "text/x-python",
   "name": "python",
   "nbconvert_exporter": "python",
   "pygments_lexer": "ipython3",
   "version": "3.10.12"
  }
 },
 "nbformat": 4,
 "nbformat_minor": 2
}
