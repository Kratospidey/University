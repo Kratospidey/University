{
 "cells": [
  {
   "cell_type": "markdown",
   "metadata": {},
   "source": [
    "## Built-In Functions"
   ]
  },
  {
   "cell_type": "markdown",
   "metadata": {},
   "source": [
    "### Lambda Function"
   ]
  },
  {
   "cell_type": "markdown",
   "metadata": {},
   "source": [
    "> An anonymous inline function consisting of a single expression which is evaluated when the function is called.\n",
    "\n",
    "syntax of lambda function:- `lambda [parameters]: expression`"
   ]
  },
  {
   "cell_type": "code",
   "execution_count": null,
   "metadata": {},
   "outputs": [],
   "source": [
    "data = [(1, 'apple'), (3, 'banana'), (2, 'cherry')]\n",
    "sorted_data = sorted(data, key=lambda x: x[1])\n",
    "print(sorted_data)"
   ]
  },
  {
   "cell_type": "markdown",
   "metadata": {},
   "source": [
    "### Map Function"
   ]
  },
  {
   "cell_type": "markdown",
   "metadata": {},
   "source": [
    "> applies a function over an entire iterable/s and returns the results\n",
    "\n",
    "\n",
    "syntax of map function:- `map(function, iterable, ...)`\n",
    "\n",
    "`function`: This is the function that you want to apply to each item of the iterable(s).\n",
    "\n",
    "`iterable`: This is the iterable (like a list, tuple, etc.) whose items will be processed by the function. You can also pass multiple iterables; in that case, the function must take as many arguments as there are iterables,\n"
   ]
  },
  {
   "cell_type": "code",
   "execution_count": null,
   "metadata": {},
   "outputs": [],
   "source": [
    "def square(number):\n",
    "    return number ** 2\n",
    "\n",
    "numbers = [1, 2, 3, 4, 5]\n",
    "squared_numbers = map(square, numbers)\n",
    "# print(squared_numbers) # generator sequence edge case\n",
    "\n",
    "# To get the results as a list\n",
    "squared_numbers_list = list(squared_numbers)\n",
    "print(squared_numbers_list)"
   ]
  },
  {
   "cell_type": "markdown",
   "metadata": {},
   "source": [
    "### Filter Function\n"
   ]
  },
  {
   "cell_type": "markdown",
   "metadata": {},
   "source": [
    "> applies a function over an entire iterable and only keeps the elements which return true for the function\n",
    "\n",
    "syntax of filter function:- `filter(function, iterable)`"
   ]
  },
  {
   "cell_type": "code",
   "execution_count": null,
   "metadata": {},
   "outputs": [],
   "source": [
    "def is_even(number):\n",
    "    return number % 2 == 0\n",
    "\n",
    "numbers = [1, 2, 3, 4, 5, 6]\n",
    "even_numbers = filter(is_even, numbers)\n",
    "\n",
    "# To get the results as a list\n",
    "even_numbers_list = list(even_numbers)\n",
    "print(even_numbers_list)"
   ]
  },
  {
   "cell_type": "markdown",
   "metadata": {},
   "source": [
    "### Reduce Function\n"
   ]
  },
  {
   "cell_type": "markdown",
   "metadata": {},
   "source": [
    "> The `reduce` function processes an iterable by applying a function that takes two arguments to the items of the iterable from  left to right, effectively reducing the iterable to a single cumulative value.\n",
    "\n",
    "syntax of reduce function:- `reduce(function, iterable[, initializer])`"
   ]
  },
  {
   "cell_type": "code",
   "execution_count": null,
   "metadata": {},
   "outputs": [],
   "source": [
    "from functools import reduce\n",
    "\n",
    "def add(x, y):\n",
    "    return x + y\n",
    "\n",
    "numbers = [1, 2, 3, 4, 5]\n",
    "result = reduce(add, numbers)\n",
    "print(result)"
   ]
  },
  {
   "cell_type": "markdown",
   "metadata": {},
   "source": [
    "### Zip Function\n"
   ]
  },
  {
   "cell_type": "markdown",
   "metadata": {},
   "source": [
    "> Iterate over several iterables in parallel, producing tuples with an item from each one.\n",
    "\n",
    "syntax of zip function:- `zip(*iterables)`\n",
    "\n",
    "`*iterables`: This can be two or more iterables (like lists, tuples, strings, etc.), which `zip` combines into an iterator of tuples, where each tuple contains the elements at the same index from each of the iterables.\n"
   ]
  },
  {
   "cell_type": "code",
   "execution_count": 5,
   "metadata": {},
   "outputs": [
    {
     "name": "stdout",
     "output_type": "stream",
     "text": [
      "List 1: 1\n",
      "List 2: a\n",
      "List 1: 2\n",
      "List 2: b\n",
      "List 1: 3\n",
      "List 2: c\n"
     ]
    }
   ],
   "source": [
    "list1 = [1, 2, 3]\n",
    "list2 = ['a', 'b', 'c']\n",
    "zipped = zip(list1, list2)\n",
    "\n",
    "# To get the results as a list of tuples\n",
    "zipped_list = list(zipped)\n",
    "for lis1, lis2 in zipped_list:\n",
    "    print(f\"List 1: {lis1}\")\n",
    "    print(f\"List 2: {lis2}\")\n",
    "# Output: [(1, 'a'), (2, 'b'), (3, 'c')]"
   ]
  },
  {
   "cell_type": "markdown",
   "metadata": {},
   "source": [
    "### Enumerate Function\n"
   ]
  },
  {
   "cell_type": "markdown",
   "metadata": {},
   "source": [
    "> The `enumerate` function gives you an object that pairs each item of an iterable (like a list) with a number, starting from 0 by default. When you go through this object, it gives you tuples with each item and its corresponding count.\n",
    "\n",
    "syntax of enumerate function:- `enumerate(iterable, start=0)`\n",
    "\n",
    "`iterable`: This is the collection of items that you want to enumerate over, like a list, tuple, or string.\n",
    "\n",
    "`start` (optional): This is the number that the enumeration will start from. If you don't specify it, enumerate starts counting from 0.\n"
   ]
  },
  {
   "cell_type": "code",
   "execution_count": 6,
   "metadata": {},
   "outputs": [
    {
     "name": "stdout",
     "output_type": "stream",
     "text": [
      "[(0, 'apple'), (1, 'banana'), (2, 'cherry')]\n"
     ]
    }
   ],
   "source": [
    "items = ['apple', 'banana', 'cherry']\n",
    "enumerated_items = enumerate(items)\n",
    "\n",
    "# To get the results as a list of tuples with their index\n",
    "enumerated_list = list(enumerated_items)\n",
    "print(enumerated_list)"
   ]
  },
  {
   "cell_type": "markdown",
   "metadata": {},
   "source": [
    "## Resources"
   ]
  },
  {
   "cell_type": "markdown",
   "metadata": {},
   "source": [
    "- Lab 08\n",
    "- PF3_Functions PPT"
   ]
  },
  {
   "cell_type": "markdown",
   "metadata": {},
   "source": [
    "## Practice Questions"
   ]
  },
  {
   "cell_type": "markdown",
   "metadata": {},
   "source": [
    "Write map function to return a list of numbers which are square of first 10 Fibonacci numbers."
   ]
  },
  {
   "cell_type": "code",
   "execution_count": null,
   "metadata": {},
   "outputs": [],
   "source": []
  },
  {
   "cell_type": "markdown",
   "metadata": {},
   "source": [
    "Write a lambda function for adding 26 to its argument, also create a lambda function that multiplies argument x with argument y and print the result."
   ]
  },
  {
   "cell_type": "code",
   "execution_count": null,
   "metadata": {},
   "outputs": [],
   "source": []
  },
  {
   "cell_type": "markdown",
   "metadata": {},
   "source": [
    "A twitter database is given in which we have username and tweets.\n",
    "\n",
    "users = [ {\"username\": 'seema', \"tweets\": [\"i love chocolate\", \"i am a student\"]},\n",
    "\n",
    "{\"username\": 'arush', \"tweets\": []}, {\"username\": 'kumal', \"tweets\": [\"India\", \"Python\"]}, {\"username\": 'sam', \"tweets\": []}, {\"username\": 'lokesh', \"tweets\": [\"i am good\"]}, ]\n",
    "\n",
    "1. Filter out Users which don’t have any tweets/Inactive Users\n",
    "\n",
    "2. Filter inactive users with just username in uppercase.\n",
    "\n",
    "3. Return a new list with the string “your name is” + name, but only if length of name is bigger than 4 using map , filter and Lambda"
   ]
  },
  {
   "cell_type": "code",
   "execution_count": null,
   "metadata": {},
   "outputs": [],
   "source": []
  }
 ],
 "metadata": {
  "kernelspec": {
   "display_name": "Python 3",
   "language": "python",
   "name": "python3"
  },
  "language_info": {
   "codemirror_mode": {
    "name": "ipython",
    "version": 3
   },
   "file_extension": ".py",
   "mimetype": "text/x-python",
   "name": "python",
   "nbconvert_exporter": "python",
   "pygments_lexer": "ipython3",
   "version": "3.10.12"
  }
 },
 "nbformat": 4,
 "nbformat_minor": 2
}
