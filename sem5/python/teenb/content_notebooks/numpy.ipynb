{
 "cells": [
  {
   "cell_type": "code",
   "execution_count": 2,
   "metadata": {},
   "outputs": [],
   "source": [
    "import numpy as np"
   ]
  },
  {
   "cell_type": "markdown",
   "metadata": {},
   "source": [
    "# Creating Arrays"
   ]
  },
  {
   "cell_type": "markdown",
   "metadata": {},
   "source": [
    "## Using np.`array()`"
   ]
  },
  {
   "cell_type": "markdown",
   "metadata": {},
   "source": [
    "### Creating arrays from lists"
   ]
  },
  {
   "cell_type": "markdown",
   "metadata": {},
   "source": [
    "> used to create a NumPy array from a list, the most common way to manually create arrays\n",
    "\n",
    "#### Caveats/Special Notes:\n",
    "  \n",
    "The type of elements in the array is determined automatically, but can be explicitly specified using the dtype parameter.\n",
    "\n",
    "All elements in the list should be of the same type, or NumPy will upcast them to the highest precision type to maintain homogeneity.\n",
    "\n",
    "#### General Syntax\n",
    "`numpy.array(object, dtype=None)`\n",
    "\n",
    "`object`: The list or iterable to be converted into an array.\n",
    "\n",
    "`dtype`: Desired data type of the array (optional)."
   ]
  },
  {
   "cell_type": "code",
   "execution_count": 3,
   "metadata": {},
   "outputs": [
    {
     "name": "stdout",
     "output_type": "stream",
     "text": [
      "[1 2 3 4 5]\n"
     ]
    }
   ],
   "source": [
    "# Creating a list\n",
    "my_list = [1, 2, 3, 4, 5]\n",
    "\n",
    "# Converting the list to a NumPy array\n",
    "my_array = np.array(my_list)\n",
    "\n",
    "# Printing the created array\n",
    "print(my_array)"
   ]
  },
  {
   "cell_type": "markdown",
   "metadata": {},
   "source": [
    "### Creating arrays from tuples"
   ]
  },
  {
   "cell_type": "markdown",
   "metadata": {},
   "source": [
    "> used to create a NumPy array from a tuple, the most common way to manually create arrays\n",
    "\n",
    "#### Caveats/Special Notes\n",
    "  \n",
    "The type of elements in the array is determined automatically, but can be explicitly specified using the dtype parameter.\n",
    "\n",
    "All elements in the list should be of the same type, or NumPy will upcast them to the highest precision type to maintain homogeneity.\n",
    "\n",
    "#### General Syntax\n",
    "`numpy.array(object, dtype=None)`\n",
    "\n",
    "`object`: The list or iterable to be converted into an array.\n",
    "\n",
    "`dtype`: Desired data type of the array (optional)."
   ]
  },
  {
   "cell_type": "code",
   "execution_count": 4,
   "metadata": {},
   "outputs": [
    {
     "name": "stdout",
     "output_type": "stream",
     "text": [
      "[1 2 3 4 5]\n"
     ]
    }
   ],
   "source": [
    "# Creating a tuple\n",
    "my_tuple = (1, 2, 3, 4, 5)\n",
    "\n",
    "# Converting the tuple to a NumPy array\n",
    "my_array = np.array(my_tuple)\n",
    "\n",
    "# Printing the created array\n",
    "print(my_array)\n"
   ]
  },
  {
   "cell_type": "markdown",
   "metadata": {},
   "source": [
    "## Special Array Functions"
   ]
  },
  {
   "cell_type": "markdown",
   "metadata": {},
   "source": [
    "### np.`zeros()`"
   ]
  },
  {
   "cell_type": "markdown",
   "metadata": {},
   "source": [
    "> creates a new NumPy array filled entirely with zeros. This function is often used for initializing an array to a known size before filling it with actual data.\n",
    "\n",
    "#### Caveats/Special Notes\n",
    "\n",
    "The shape of the array must be specified as a tuple. For a 1-D array, use a single integer or a one-element tuple.\n",
    "\n",
    "The data type defaults to float64 but can be specified using the dtype parameter.\n",
    "\n",
    "#### General Syntax\n",
    "\n",
    "`numpy.zeros(shape, dtype=float)`\n",
    "\n",
    "`shape`: The shape of the new array (e.g., (2, 3) for a 2x3 array).\n",
    "\n",
    "`dtype`: Desired data type of the array (optional)."
   ]
  },
  {
   "cell_type": "code",
   "execution_count": 5,
   "metadata": {},
   "outputs": [
    {
     "name": "stdout",
     "output_type": "stream",
     "text": [
      "[[0. 0. 0.]\n",
      " [0. 0. 0.]]\n"
     ]
    }
   ],
   "source": [
    "# Creating a 2x3 array of zeros\n",
    "zero_array = np.zeros((2, 3))\n",
    "\n",
    "# Printing the created array\n",
    "print(zero_array)\n"
   ]
  },
  {
   "cell_type": "markdown",
   "metadata": {},
   "source": [
    "### np.`arrange()`"
   ]
  },
  {
   "cell_type": "markdown",
   "metadata": {},
   "source": [
    "> creates an array with evenly spaced values within a given interval. It's similar to Python's built-in `range()` function but returns a NumPy array.\n",
    "\n",
    "\n",
    "#### Caveats/Special Notes\n",
    "\n",
    "The end value in the specified interval is not included in the array.\n",
    "\n",
    "Be cautious with floating-point arguments due to the inexact representation of such values.\n",
    "\n",
    "#### General Syntax\n",
    "`numpy.arange(start, stop, step, dtype=None)`\n",
    "\n",
    "`start`: Start of interval (optional; default is 0).\n",
    "\n",
    "`stop`: End of interval (not included in the array).\n",
    "\n",
    "`step`: Spacing between values (optional; default is 1).\n",
    "\n",
    "`dtype`: The type of the output array (optional).\n",
    "\n",
    "\n"
   ]
  },
  {
   "cell_type": "code",
   "execution_count": 3,
   "metadata": {},
   "outputs": [
    {
     "name": "stdout",
     "output_type": "stream",
     "text": [
      "Regular range: [0 1 2 3 4 5 6 7 8 9]\n",
      "Range with step: [10 12 14 16 18 20]\n"
     ]
    }
   ],
   "source": [
    "# Creating an array from 0 to 9\n",
    "arange_array = np.arange(10)\n",
    "\n",
    "# Creating an array from 10 to 20 with a step of 2\n",
    "arange_step_array = np.arange(10, 21, 2)\n",
    "\n",
    "# Printing the created arrays\n",
    "print(\"Regular range:\", arange_array)\n",
    "print(\"Range with step:\", arange_step_array)\n"
   ]
  },
  {
   "cell_type": "markdown",
   "metadata": {},
   "source": [
    "### np.`full()`"
   ]
  },
  {
   "cell_type": "markdown",
   "metadata": {},
   "source": [
    "> creates a new NumPy array of a specified shape and fills it with a specified value. This function is useful when you need an array with a constant value.\n",
    "\n",
    "#### Caveats/Special Notes\n",
    "\n",
    "The shape of the array must be defined as a tuple or integer.\n",
    "\n",
    "The data type of the array is inferred from the fill value but can be explicitly set with the dtype parameter.\n",
    "\n",
    "\n",
    "#### General Syntax\n",
    "\n",
    "`numpy.full(shape, fill_value, dtype=None)`\n",
    "\n",
    "`shape`: The shape of the new array, e.g., (2, 3) for a 2x3 array.\n",
    "\n",
    "`fill_value`: The value to fill the array with.\n",
    "\n",
    "`dtype`: Desired data type of the array (optional).\n"
   ]
  },
  {
   "cell_type": "code",
   "execution_count": 12,
   "metadata": {},
   "outputs": [
    {
     "name": "stdout",
     "output_type": "stream",
     "text": [
      "[[7 7 7]\n",
      " [7 7 7]\n",
      " [7 7 7]]\n"
     ]
    }
   ],
   "source": [
    "# Creating a 3x3 array filled with the number 7\n",
    "full_array = np.full((3, 3), 7)\n",
    "\n",
    "# Printing the created array\n",
    "print(full_array)"
   ]
  },
  {
   "cell_type": "markdown",
   "metadata": {},
   "source": [
    "### np.`linspace()`"
   ]
  },
  {
   "cell_type": "markdown",
   "metadata": {},
   "source": [
    "> creates an array of specified size filled with evenly spaced values over a specified interval. Unlike np.arange(), which uses step size, \n",
    "> lets you specify the exact number of elements you want.\n",
    "\n",
    "#### Caveats/Special Notes\n",
    "\n",
    "The end value of the interval is included by default, unlike `np.arange()`.\n",
    "\n",
    "#### General Syntax\n",
    "\n",
    "`numpy.linspace(start, stop, num=50, dtype=None)`\n",
    "\n",
    "`start`: Starting value of the sequence.\n",
    "\n",
    "`stop`: End value of the sequence.\n",
    "\n",
    "`num`: Number of samples to generate (default is 50).\n",
    "\n",
    "`dtype`: The type of the output array (optional)."
   ]
  },
  {
   "cell_type": "code",
   "execution_count": 6,
   "metadata": {},
   "outputs": [
    {
     "name": "stdout",
     "output_type": "stream",
     "text": [
      "[0.   0.25 0.5  0.75 1.  ]\n"
     ]
    }
   ],
   "source": [
    "# Creating an array of 5 numbers, evenly spaced between 0 and 1\n",
    "linspace_array = np.linspace(0, 1, 5)\n",
    "\n",
    "# Printing the created array\n",
    "print(linspace_array)"
   ]
  },
  {
   "cell_type": "markdown",
   "metadata": {},
   "source": [
    "# Operations on Arrays"
   ]
  },
  {
   "cell_type": "markdown",
   "metadata": {},
   "source": [
    "## Basic Operations"
   ]
  },
  {
   "cell_type": "markdown",
   "metadata": {},
   "source": [
    "### np.`add()`\n",
    "\n"
   ]
  },
  {
   "cell_type": "markdown",
   "metadata": {},
   "source": [
    "> performs element-wise addition between two arrays. If given two arrays of the same shape, it adds corresponding elements together. \n",
    "\n",
    "#### Caveats/Special Notes\n",
    "\n",
    "The two arrays must be broadcastable to the same shape. Broadcasting is a powerful mechanism that allows NumPy to work with arrays of different shapes when performing arithmetic operations.\n",
    "\n",
    "If the arrays are not of the same shape, NumPy tries to broadcast them to a compatible shape, which can sometimes lead to unexpected results or errors if not properly understood.\n",
    "\n",
    "\n",
    "#### General Syntax\n",
    "\n",
    "`numpy.add(x1, x2)`\n",
    "\n",
    "`x1`, `x2`: Input arrays to be added"
   ]
  },
  {
   "cell_type": "code",
   "execution_count": 16,
   "metadata": {},
   "outputs": [
    {
     "name": "stdout",
     "output_type": "stream",
     "text": [
      "[5 7 9]\n"
     ]
    }
   ],
   "source": [
    "# Creating two arrays\n",
    "array1 = np.array([1, 2, 3])\n",
    "array2 = np.array([4, 5, 6])\n",
    "\n",
    "# Element-wise addition of array1 and array2\n",
    "result = np.add(array1, array2)\n",
    "\n",
    "# Printing the result\n",
    "print(result)"
   ]
  },
  {
   "cell_type": "markdown",
   "metadata": {},
   "source": [
    "### np.`sqrt()`"
   ]
  },
  {
   "cell_type": "markdown",
   "metadata": {},
   "source": [
    "> computes the square root of each element in the input array.\n",
    "\n",
    "#### Caveats/Special Notes\n",
    "\n",
    "The function returns NaNs (not a number) for any negative elements in the array since the square root of a negative number is not defined in real numbers.\n",
    "\n",
    "The data type of the output array is usually a floating-point number, even if the input array contains integers.\n",
    "\n",
    "#### General Syntax\n",
    "\n",
    "`numpy.sqrt(x)`\n",
    "\n",
    "`x`: Input array.\n"
   ]
  },
  {
   "cell_type": "code",
   "execution_count": 17,
   "metadata": {},
   "outputs": [
    {
     "name": "stdout",
     "output_type": "stream",
     "text": [
      "[1. 2. 3. 4. 5.]\n"
     ]
    }
   ],
   "source": [
    "# Creating an array\n",
    "array = np.array([1, 4, 9, 16, 25])\n",
    "\n",
    "# Applying square root to each element\n",
    "sqrt_array = np.sqrt(array)\n",
    "\n",
    "# Printing the result\n",
    "print(sqrt_array)"
   ]
  },
  {
   "cell_type": "markdown",
   "metadata": {},
   "source": [
    "### np.`exp()`"
   ]
  },
  {
   "cell_type": "markdown",
   "metadata": {},
   "source": [
    "> calculates the exponential e^x of all elements in the input array.\n",
    "\n",
    "#### Caveats/Special Notes\n",
    "\n",
    "The exponential function can quickly lead to very large numbers, so be cautious with large inputs, as this might result in overflow errors or very large outputs.\n",
    "\n",
    "The function typically returns a floating-point array regardless of the input array's data type.\n",
    "\n",
    "#### General Syntax\n",
    "\n",
    "`numpy.exp(x)`\n",
    "\n",
    "`x`: Input array.\n"
   ]
  },
  {
   "cell_type": "code",
   "execution_count": 7,
   "metadata": {},
   "outputs": [
    {
     "name": "stdout",
     "output_type": "stream",
     "text": [
      "[ 1.          2.71828183  7.3890561  20.08553692 54.59815003]\n"
     ]
    }
   ],
   "source": [
    "# Creating an array\n",
    "array = np.array([0, 1, 2, 3, 4])\n",
    "\n",
    "# Calculating the exponential of each element\n",
    "exp_array = np.exp(array)\n",
    "\n",
    "# Printing the result\n",
    "print(exp_array)"
   ]
  },
  {
   "cell_type": "markdown",
   "metadata": {},
   "source": [
    "## Random Number Generation"
   ]
  },
  {
   "cell_type": "markdown",
   "metadata": {},
   "source": [
    "### np.random.`random()`"
   ]
  },
  {
   "cell_type": "markdown",
   "metadata": {},
   "source": [
    "> is used to generate an array of random floats in the half-open interval [0.0,1.0)\n",
    "> \n",
    "> closed interval - [\n",
    "> \n",
    "> open interval - )\n",
    "\n",
    "#### Caveats/Special Notes\n",
    "\n",
    "none\n",
    "\n",
    "\n",
    "#### General Syntax\n",
    "\n",
    "`numpy.random.random(size=None)`\n",
    "\n",
    "`size`: The shape of the output array. If not provided, a single float is returned."
   ]
  },
  {
   "cell_type": "code",
   "execution_count": 8,
   "metadata": {},
   "outputs": [
    {
     "name": "stdout",
     "output_type": "stream",
     "text": [
      "[[0.30216205 0.2379832  0.05316925]\n",
      " [0.72567021 0.53679656 0.64065986]]\n"
     ]
    }
   ],
   "source": [
    "# Generating a 2x3 array of random floats\n",
    "random_array = np.random.random((2, 3))\n",
    "\n",
    "# Printing the created array\n",
    "print(random_array)"
   ]
  },
  {
   "cell_type": "markdown",
   "metadata": {},
   "source": [
    "### np.random.`randint()`"
   ]
  },
  {
   "cell_type": "markdown",
   "metadata": {},
   "source": [
    "> generates an array of random integers from a specified low (inclusive) to a high (exclusive) value.\n",
    "\n",
    "#### Caveats/Special Notes\n",
    "\n",
    "The low value is inclusive, and high is exclusive. If high is omitted, the range is assumed to be from 0 to low.\n",
    "\n",
    "#### General Syntax\n",
    "\n",
    "`numpy.random.randint(low, high=None, size=None, dtype='l')`\n",
    "\n",
    "`low`: Lowest (inclusive) integer to be drawn from the distribution.\n",
    "\n",
    "`high`: One above the highest integer to be drawn from the distribution.\n",
    "\n",
    "`size`: The shape of the output array.\n",
    "\n",
    "`dtype`: Desired data type of the result.\n",
    "\n"
   ]
  },
  {
   "cell_type": "code",
   "execution_count": 21,
   "metadata": {},
   "outputs": [
    {
     "name": "stdout",
     "output_type": "stream",
     "text": [
      "[[3 3]\n",
      " [8 6]]\n"
     ]
    }
   ],
   "source": [
    "# Generating a 2x2 array of random integers between 0 and 10\n",
    "random_int_array = np.random.randint(0, 10, size=(2, 2))\n",
    "\n",
    "# Printing the created array\n",
    "print(random_int_array)"
   ]
  },
  {
   "cell_type": "markdown",
   "metadata": {},
   "source": [
    "# Array Manipulation"
   ]
  },
  {
   "cell_type": "markdown",
   "metadata": {},
   "source": [
    "## Reshaping and Flattening"
   ]
  },
  {
   "cell_type": "markdown",
   "metadata": {},
   "source": [
    "### np.`reshape()`"
   ]
  },
  {
   "cell_type": "markdown",
   "metadata": {},
   "source": [
    "> changes the shape of an array without changing its data. It's a versatile tool for manipulating the dimensions of an existing array\n",
    "\n",
    "#### Caveats/Special \n",
    "\n",
    "The new shape must be compatible with the size of the original array, meaning the total number of elements must remain constant.\n",
    "\n",
    "The function returns a new view of the array whenever possible; however, it might return a copy if necessary.\n",
    "\n",
    "Using -1 as one of the dimensions in the new shape lets NumPy automatically calculate the size of that dimension.\n",
    "\n",
    "\n",
    "#### General Syntax\n",
    "\n",
    "`numpy.reshape(a, newshape)`\n",
    "\n",
    "`a`: Array to be reshaped.\n",
    "\n",
    "`newshape`: The new shape should be compatible with the original shape.\n"
   ]
  },
  {
   "cell_type": "code",
   "execution_count": 16,
   "metadata": {},
   "outputs": [
    {
     "name": "stdout",
     "output_type": "stream",
     "text": [
      "Original Array: [0 1 2 3 4 5]\n",
      "Reshaped Array: [[0 1 2]\n",
      " [3 4 5]]\n"
     ]
    }
   ],
   "source": [
    "# Creating an array\n",
    "original_array = np.arange(6)\n",
    "0 \n",
    "# Reshaping the array to 2x3\n",
    "reshaped_array = np.reshape(original_array, (2, 3))\n",
    "\n",
    "\n",
    "# Printing the original and reshaped arrays\n",
    "print(\"Original Array:\", original_array)\n",
    "print(\"Reshaped Array:\", reshaped_array)"
   ]
  },
  {
   "cell_type": "markdown",
   "metadata": {},
   "source": [
    "### np.`flatten()`"
   ]
  },
  {
   "cell_type": "markdown",
   "metadata": {},
   "source": [
    "> is used to flatten a multi-dimensional array into a one-dimensional array. This function returns a copy of the array collapsed into one dimension.\n",
    "#### Caveats/Special Notes\n",
    "\n",
    "Unlike np.`ravel()`, which returns a flattened array view if possible, np.`flatten()` always returns a copy. This means changes to the flattened array will not affect the original array.\n",
    "\n",
    "\n",
    "\n",
    "\n",
    "#### General Syntax\n",
    "\n",
    "`ndarray.flatten()`\n"
   ]
  },
  {
   "cell_type": "code",
   "execution_count": 25,
   "metadata": {},
   "outputs": [
    {
     "name": "stdout",
     "output_type": "stream",
     "text": [
      "Original Array:\n",
      " [[1 2 3]\n",
      " [4 5 6]]\n",
      "Flattened Array: [1 2 3 4 5 6]\n"
     ]
    }
   ],
   "source": [
    "# Creating a 2x3 array\n",
    "original_array = np.array([[1, 2, 3], [4, 5, 6]])\n",
    "\n",
    "# Flattening the array\n",
    "flattened_array = original_array.flatten()\n",
    "\n",
    "# Printing the original and flattened arrays\n",
    "print(\"Original Array:\\n\", original_array)\n",
    "print(\"Flattened Array:\", flattened_array)"
   ]
  },
  {
   "cell_type": "markdown",
   "metadata": {},
   "source": [
    "### np.`ravel()`"
   ]
  },
  {
   "cell_type": "markdown",
   "metadata": {},
   "source": [
    "> flattens a multi-dimensional array into a one-dimensional array. It returns a contiguous flattened array, ideally as a view (not a copy) of the original array, which means changes to the returned array may affect the original array.\n",
    "\n",
    "#### Caveats/Special Notes\n",
    "\n",
    "more memory effiicent than flatten\n",
    "\n",
    "#### General Syntax\n",
    "\n",
    "`numpy.ravel(a)`\n",
    "\n",
    "`a`: Array to be flattened.\n",
    "\n"
   ]
  },
  {
   "cell_type": "code",
   "execution_count": 26,
   "metadata": {},
   "outputs": [
    {
     "name": "stdout",
     "output_type": "stream",
     "text": [
      "Original Array:\n",
      " [[1 2 3]\n",
      " [4 5 6]]\n",
      "Raveled Array: [1 2 3 4 5 6]\n"
     ]
    }
   ],
   "source": [
    "# Creating a 2x3 array\n",
    "original_array = np.array([[1, 2, 3], [4, 5, 6]])\n",
    "\n",
    "# Flattening the array using ravel\n",
    "raveled_array = np.ravel(original_array)\n",
    "\n",
    "# Printing the original and raveled arrays\n",
    "print(\"Original Array:\\n\", original_array)\n",
    "print(\"Raveled Array:\", raveled_array)"
   ]
  },
  {
   "cell_type": "markdown",
   "metadata": {},
   "source": [
    "## Array Slicing"
   ]
  },
  {
   "cell_type": "markdown",
   "metadata": {},
   "source": [
    "> Array slicing in NumPy is a technique to access a subset of an array. It allows you to retrieve specific elements, rows, columns, or sub-arrays from an array based on their index positions.\n",
    "\n",
    "#### Caveats/Special Notes\n",
    "\n",
    "Slicing in NumPy, similar to Python lists, is zero-indexed.\n",
    "\n",
    "The slice start:stop:step includes start index, but excludes stop index.\n",
    "\n",
    "Slices of arrays do not return copies; they return views. Hence, modifying a slice modifies the original array.\n",
    "\n",
    "Negative indices can be used to count from the end of the array.\n",
    "\n",
    "\n",
    "#### General Syntax\n",
    "\n",
    "1-D array: `array[start:stop:step]`\n",
    "\n",
    "2-D array (or higher): `array[start_row:stop_row:step_row, start_col:stop_col:step_col]`"
   ]
  },
  {
   "cell_type": "code",
   "execution_count": 27,
   "metadata": {},
   "outputs": [
    {
     "name": "stdout",
     "output_type": "stream",
     "text": [
      "Sliced 1-D Array: [2 3 4 5 6]\n",
      "Sliced 2-D Array:\n",
      " [[1 2]\n",
      " [4 5]]\n"
     ]
    }
   ],
   "source": [
    "# Creating a 1-D array\n",
    "one_d_array = np.array([0, 1, 2, 3, 4, 5, 6, 7, 8, 9])\n",
    "\n",
    "# Slicing the array from index 2 to 7\n",
    "sliced_array = one_d_array[2:7]\n",
    "\n",
    "# Creating a 2-D array\n",
    "two_d_array = np.array([[1, 2, 3], [4, 5, 6], [7, 8, 9]])\n",
    "\n",
    "# Slicing the 2-D array to get the first two rows and columns\n",
    "sliced_2d_array = two_d_array[:2, :2]\n",
    "\n",
    "# Printing the results\n",
    "print(\"Sliced 1-D Array:\", sliced_array)\n",
    "print(\"Sliced 2-D Array:\\n\", sliced_2d_array)"
   ]
  },
  {
   "cell_type": "markdown",
   "metadata": {},
   "source": [
    "# Attributes of ndarray"
   ]
  },
  {
   "cell_type": "markdown",
   "metadata": {},
   "source": [
    "## Key Attributes"
   ]
  },
  {
   "cell_type": "markdown",
   "metadata": {},
   "source": [
    "### `ndim`"
   ]
  },
  {
   "cell_type": "markdown",
   "metadata": {},
   "source": [
    "> The ndim attribute of a NumPy array returns the number of dimensions of the array, also known as the array's rank\n",
    "\n",
    "#### Caveats/Special Notes\n",
    "\n",
    "A 1-D array will have ndim equal to 1, a 2-D array will have ndim equal to 2, and so on.\n",
    "\n",
    "The ndim attribute is particularly helpful in conditional statements where the code behavior might depend on the dimensionality of the input array.\n",
    "\n",
    "#### General Syntax\n",
    "Syntax: `array.ndim`\n"
   ]
  },
  {
   "cell_type": "code",
   "execution_count": 28,
   "metadata": {},
   "outputs": [
    {
     "name": "stdout",
     "output_type": "stream",
     "text": [
      "Dimension of 1-D array: 1\n",
      "Dimension of 2-D array: 2\n"
     ]
    }
   ],
   "source": [
    "# Creating a 1-D array\n",
    "one_d_array = np.array([1, 2, 3, 4, 5])\n",
    "\n",
    "# Creating a 2-D array\n",
    "two_d_array = np.array([[1, 2, 3], [4, 5, 6]])\n",
    "\n",
    "# Getting the dimensions of the arrays\n",
    "dim_one_d = one_d_array.ndim\n",
    "dim_two_d = two_d_array.ndim\n",
    "\n",
    "# Printing the dimensions\n",
    "print(\"Dimension of 1-D array:\", dim_one_d)\n",
    "print(\"Dimension of 2-D array:\", dim_two_d)"
   ]
  },
  {
   "cell_type": "markdown",
   "metadata": {},
   "source": [
    "### `shape`"
   ]
  },
  {
   "cell_type": "markdown",
   "metadata": {},
   "source": [
    "> The shape attribute of a NumPy array returns a tuple representing the dimensions of the array. Each element of the tuple indicates the size of the array along that dimension. \n",
    "\n",
    "#### Caveats/Special Notes\n",
    "\n",
    "For a 2-D array, the shape would be (n_rows, n_columns).\n",
    "\n",
    "For a 1-D array, the shape is (n_elements,) – note the comma, indicating it's a single-dimensional tuple.\n",
    "\n",
    "\n",
    "\n",
    "#### General Syntax\n",
    "\n",
    "Syntax: `array.shape`"
   ]
  },
  {
   "cell_type": "code",
   "execution_count": 29,
   "metadata": {},
   "outputs": [
    {
     "name": "stdout",
     "output_type": "stream",
     "text": [
      "Shape of 1-D array: (5,)\n",
      "Shape of 2-D array: (2, 3)\n"
     ]
    }
   ],
   "source": [
    "# Creating a 1-D array\n",
    "one_d_array = np.array([1, 2, 3, 4, 5])\n",
    "\n",
    "# Creating a 2-D array\n",
    "two_d_array = np.array([[1, 2, 3], [4, 5, 6]])\n",
    "\n",
    "# Getting the shapes of the arrays\n",
    "shape_one_d = one_d_array.shape\n",
    "shape_two_d = two_d_array.shape\n",
    "\n",
    "# Printing the shapes\n",
    "print(\"Shape of 1-D array:\", shape_one_d)\n",
    "print(\"Shape of 2-D array:\", shape_two_d)"
   ]
  },
  {
   "cell_type": "markdown",
   "metadata": {},
   "source": [
    "### `size`"
   ]
  },
  {
   "cell_type": "markdown",
   "metadata": {},
   "source": [
    "> The size attribute of a NumPy array returns the total number of elements in the array.\n",
    "\n",
    "\n",
    "#### Caveats/Special Notes\n",
    "\n",
    "The size of an array is equal to the product of its dimensions.\n",
    "\n",
    "#### General Syntax\n",
    "\n",
    "Syntax: `array.size`\n"
   ]
  },
  {
   "cell_type": "code",
   "execution_count": 30,
   "metadata": {},
   "outputs": [
    {
     "name": "stdout",
     "output_type": "stream",
     "text": [
      "Size of 1-D array: 5\n",
      "Size of 2-D array: 6\n"
     ]
    }
   ],
   "source": [
    "# Creating a 1-D array\n",
    "one_d_array = np.array([1, 2, 3, 4, 5])\n",
    "\n",
    "# Creating a 2-D array\n",
    "two_d_array = np.array([[1, 2, 3], [4, 5, 6]])\n",
    "\n",
    "# Getting the sizes of the arrays\n",
    "size_one_d = one_d_array.size\n",
    "size_two_d = two_d_array.size\n",
    "\n",
    "# Printing the sizes\n",
    "print(\"Size of 1-D array:\", size_one_d)\n",
    "print(\"Size of 2-D array:\", size_two_d)"
   ]
  },
  {
   "cell_type": "markdown",
   "metadata": {},
   "source": [
    "### `dtype`"
   ]
  },
  {
   "cell_type": "markdown",
   "metadata": {},
   "source": [
    "> The dtype attribute of a NumPy array indicates the data type of the elements in the array. NumPy arrays are homogenous, meaning all elements in the array are of the same type. \n",
    "\n",
    "#### Caveats/Special Notes\n",
    "\n",
    "The data type can be explicitly set when creating an array using the dtype parameter.\n",
    "\n",
    "#### General Syntax\n",
    "\n",
    "Syntax: `array.dtype`"
   ]
  },
  {
   "cell_type": "markdown",
   "metadata": {},
   "source": [
    "### `itemsize`"
   ]
  },
  {
   "cell_type": "markdown",
   "metadata": {},
   "source": [
    "> The itemsize attribute of a NumPy array returns the size (in bytes) of each element in the array. It reflects the memory occupied by each array element, which is directly tied to the array's data type\n",
    "\n",
    "#### Caveats/Special Notes\n",
    "\n",
    "The value of itemsize depends on the data type of the array. For example, int32 has an itemsize of 4 bytes, while float64 has an itemsize of 8 bytes.\n",
    "\n",
    "\n",
    "#### General Syntax\n",
    "\n",
    "Syntax: `array.itemsize`\n"
   ]
  },
  {
   "cell_type": "code",
   "execution_count": 33,
   "metadata": {},
   "outputs": [
    {
     "name": "stdout",
     "output_type": "stream",
     "text": [
      "Item size of the array: 8 bytes\n"
     ]
    }
   ],
   "source": [
    "# Creating an array\n",
    "array = np.array([1, 2, 3, 4], dtype=np.float64)\n",
    "\n",
    "# Getting the item size of the array\n",
    "item_size = array.itemsize\n",
    "\n",
    "# Printing the item size\n",
    "print(\"Item size of the array:\", item_size, \"bytes\")"
   ]
  },
  {
   "cell_type": "markdown",
   "metadata": {},
   "source": [
    "### `T`"
   ]
  },
  {
   "cell_type": "markdown",
   "metadata": {},
   "source": [
    "> The T attribute of a NumPy array returns the transpose of the array. For a 2-D array, this means swapping rows with columns. For a 1-D array, the transpose returns the array itself as transposing does not change its shape.\n",
    "\n",
    "\n",
    "#### Caveats/Special Notes\n",
    "\n",
    "For arrays with more than two dimensions, T returns the transposed array with its axes reversed.\n",
    "\n",
    "The transpose operation does not involve copying data, but it returns a view of the original array. Therefore, modifying the transposed array will also modify the original array.\n",
    "\n",
    "\n",
    "#### General Syntax\n",
    "\n",
    "Syntax: `array.T`\n"
   ]
  },
  {
   "cell_type": "code",
   "execution_count": 34,
   "metadata": {},
   "outputs": [
    {
     "name": "stdout",
     "output_type": "stream",
     "text": [
      "Original Array:\n",
      " [[1 2 3]\n",
      " [4 5 6]]\n",
      "Transposed Array:\n",
      " [[1 4]\n",
      " [2 5]\n",
      " [3 6]]\n"
     ]
    }
   ],
   "source": [
    "# Creating a 2-D array\n",
    "array_2d = np.array([[1, 2, 3], [4, 5, 6]])\n",
    "\n",
    "# Transposing the array\n",
    "transposed_array = array_2d.T\n",
    "\n",
    "# Printing the original and transposed arrays\n",
    "print(\"Original Array:\\n\", array_2d)\n",
    "print(\"Transposed Array:\\n\", transposed_array)"
   ]
  },
  {
   "cell_type": "markdown",
   "metadata": {},
   "source": [
    "# Practice Questions"
   ]
  },
  {
   "cell_type": "markdown",
   "metadata": {},
   "source": [
    "Write Python program to Create a 5 * 6 array between 10 to 1000 such that the difference between the elements are 12 and they are only even numbers. \n",
    "\n",
    "Print the even rows and odd columns from the array.\n"
   ]
  },
  {
   "cell_type": "code",
   "execution_count": null,
   "metadata": {},
   "outputs": [],
   "source": [
    "# Write Python program to Create a 5 * 6 array between 10 to 1000 such that the difference between the elements are 12 and they are only even numbers. \n",
    "\n",
    "# Print the even rows and odd columns from the array.\n",
    "\n",
    "import numpy as np\n",
    "\n",
    "array = np.arange(10,1000,12)\n",
    "\n",
    "\n",
    "array = array[:30]\n",
    "\n",
    "\n",
    "array = array.reshape((5,6))\n",
    "\n",
    "\n",
    "print(array[0::2,1::2])"
   ]
  },
  {
   "cell_type": "markdown",
   "metadata": {},
   "source": [
    "Take user input for dimension of matrix and create the following pattern. \n",
    "\n",
    "Below is for 8 * 8 pattern.\n"
   ]
  },
  {
   "cell_type": "markdown",
   "metadata": {},
   "source": [
    "![8X8 Pattern](../images/numpy-pattern.png)"
   ]
  },
  {
   "cell_type": "code",
   "execution_count": null,
   "metadata": {},
   "outputs": [],
   "source": [
    "import numpy as np\n",
    "\n",
    "def dynamic_checkerboard(n):\n",
    "    \"\"\"\n",
    "    Create an n x n checkerboard pattern using NumPy, where n is given by the user.\n",
    "    \"\"\"\n",
    "    # Initialize an n x n array of zeros\n",
    "    board = np.zeros((n, n), dtype=int)\n",
    "    \n",
    "    # Use slicing to set the required indices to 1\n",
    "    board[1::2, ::2] = 1  # Set 1s for even-indexed rows on odd-indexed columns\n",
    "    board[::2, 1::2] = 1  # Set 1s for odd-indexed rows on even-indexed columns\n",
    "    \n",
    "    return board\n",
    "\n",
    "# Example for a 5x5 matrix\n",
    "checkerboard_pattern_dynamic = dynamic_checkerboard(5)\n",
    "print(checkerboard_pattern_dynamic)\n"
   ]
  },
  {
   "cell_type": "markdown",
   "metadata": {},
   "source": [
    "Write a NumPy program to convert the values of Centigrade degrees into Fahrenheit  degrees and vice versa. \n",
    "\n",
    "Values are stored into a NumPy array."
   ]
  },
  {
   "cell_type": "code",
   "execution_count": null,
   "metadata": {},
   "outputs": [],
   "source": [
    "# Write a NumPy program to convert the values of Centigrade degrees into Fahrenheit  degrees and vice versa. \n",
    "\n",
    "# Values are stored into a NumPy array.\n",
    "\n",
    "import numpy as np\n",
    "\n",
    "def convert_to_celsius(arr):\n",
    "    return (arr - 32) * 5/9\n",
    "\n",
    "def convert_to_fahrenheit(arr):\n",
    "    return (arr * 9/5) + 32\n",
    "\n",
    "\n",
    "cels = np.array([0,25,100])\n",
    "print(convert_to_fahrenheit(cels))\n",
    "fars = np.array([32,77,212])\n",
    "print(convert_to_celsius(fars))"
   ]
  }
 ],
 "metadata": {
  "kernelspec": {
   "display_name": "Python 3",
   "language": "python",
   "name": "python3"
  },
  "language_info": {
   "codemirror_mode": {
    "name": "ipython",
    "version": 3
   },
   "file_extension": ".py",
   "mimetype": "text/x-python",
   "name": "python",
   "nbconvert_exporter": "python",
   "pygments_lexer": "ipython3",
   "version": "3.10.12"
  }
 },
 "nbformat": 4,
 "nbformat_minor": 2
}
