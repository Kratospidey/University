{
 "cells": [
  {
   "cell_type": "markdown",
   "metadata": {},
   "source": [
    "- list - same\n",
    "- set - same\n",
    "- tuple - same\n",
    "- arrays - not in syllabus\n",
    "- dictionary    "
   ]
  },
  {
   "cell_type": "markdown",
   "metadata": {},
   "source": [
    "### Basic Usage\n",
    "list - you can add values (mutable), there can be duplicates, ordered, syntax - []\n",
    "\n",
    "set - you can add values (mutable), there can not be duplicates, not ordered, syntax - {}\n",
    "\n",
    "tuples - you can not add values (immutable), there can be duplicates, ordered, syntax - ()\n",
    "\n",
    "dictionaries - you can add values (mutable), there can be duplicates, not ordered but kv pairs, syntax - {}"
   ]
  },
  {
   "cell_type": "markdown",
   "metadata": {},
   "source": [
    "### Normal Use Cases\n",
    "1. list - multiple values, values will change, duplicate and a support of in-built python methods\n",
    "2. set - normally used to filter out for unique values\n",
    "3. tuples - not that much, just used when data is permanent\n",
    "4. dictionary - kv pair needed"
   ]
  },
  {
   "cell_type": "markdown",
   "metadata": {},
   "source": [
    "### Slicing\n",
    "\n",
    "syntax - [start(inclusive):end(exclusive):step size]\n",
    "\n",
    "for first term - [0]\n",
    "\n",
    "for last term - [-1]\n",
    "\n",
    "for the data in reverse [::-1]\n"
   ]
  },
  {
   "cell_type": "code",
   "execution_count": null,
   "metadata": {},
   "outputs": [],
   "source": [
    "print([1,2,3,4,5][::-1])"
   ]
  },
  {
   "cell_type": "code",
   "execution_count": null,
   "metadata": {},
   "outputs": [],
   "source": [
    "print(\"My Name is Param\"[0])"
   ]
  },
  {
   "cell_type": "markdown",
   "metadata": {},
   "source": [
    "# List Comprehension\n"
   ]
  },
  {
   "cell_type": "markdown",
   "metadata": {},
   "source": [
    "> A concise syntax for creating new lists by applying an expression to each item in an iterable.\n",
    "\n",
    "- list comprehension without any conditions `[expression for item in iterable]`\n",
    "- list comprehension with just if condition `[expression for item in iterable if condition]`\n",
    "- list comprehension with if and else condition `[expression_if_true if condition else expression_if_false for item in iterable]`\n",
    "- list comprehnsion with nested if else `[expression_if_true if condition1 else expression_if_condition1_false if condition2 else expression_if_condition2_false for item in iterable]`"
   ]
  },
  {
   "cell_type": "code",
   "execution_count": null,
   "metadata": {},
   "outputs": [],
   "source": [
    "\n",
    "# ! example\n",
    "\n",
    "squares = [x**2 for x in range(1, 6)]\n",
    "print(squares)"
   ]
  },
  {
   "cell_type": "markdown",
   "metadata": {},
   "source": [
    "Using list comprehension in Python, create a list of squares for all even numbers between 1 and 20. "
   ]
  },
  {
   "cell_type": "code",
   "execution_count": null,
   "metadata": {},
   "outputs": [],
   "source": []
  },
  {
   "cell_type": "markdown",
   "metadata": {},
   "source": [
    "Create a list where each number in the range from 1 to 10 is categorized as follows:\n",
    "\n",
    "\"small-even\" if the number is even and less than 5,\n",
    "\n",
    "\"large-even\" if the number is even and 5 or more,\n",
    "\n",
    "\"small-odd\" if the number is odd and less than 5,\n",
    "\n",
    "\"large-odd\" if the number is odd and 5 or more."
   ]
  },
  {
   "cell_type": "code",
   "execution_count": null,
   "metadata": {},
   "outputs": [],
   "source": [
    "[n for n in range(1,11)]"
   ]
  },
  {
   "cell_type": "markdown",
   "metadata": {},
   "source": [
    "## Dictionary Comprehension"
   ]
  },
  {
   "cell_type": "markdown",
   "metadata": {},
   "source": [
    ">  A compact method for creating new dictionaries by generating key-value pairs through expressions applied to items in an iterable.\n",
    "\n",
    "syntax:- `{key_expression: value_expression for item in iterable [if condition]}`\n",
    "\n",
    "`key_expression`: Expression that defines the keys of the new dictionary.\n",
    "\n",
    "`value_expression`: Expression that defines the values of the new dictionary.\n",
    "\n",
    "`for item in iterable`: Loop that iterates over each item in the iterable object.\n",
    "\n",
    "`[if condition] (optional)`: A condition that filters items from the iterable. Only items for which the condition is True are included in the new dictionary.\n"
   ]
  },
  {
   "cell_type": "code",
   "execution_count": null,
   "metadata": {},
   "outputs": [],
   "source": [
    "\n",
    "# ! example\n",
    "\n",
    "numbers = [1, 2, 3, 4, 5]\n",
    "squared_numbers = {x: x**2 for x in numbers}\n",
    "\n",
    "print(squared_numbers)"
   ]
  },
  {
   "cell_type": "markdown",
   "metadata": {},
   "source": [
    "Given a list of words ['apple', 'banana', 'cherry', 'date']\n",
    "\n",
    "write a dictionary comprehension that creates a dictionary where each word is a key and its length is the corresponding value."
   ]
  },
  {
   "cell_type": "code",
   "execution_count": null,
   "metadata": {},
   "outputs": [],
   "source": []
  },
  {
   "cell_type": "markdown",
   "metadata": {},
   "source": [
    "# Recursion\n",
    "- A function that calls itself is a recursive function\n",
    "- All recursive functions have 2 cases:\n",
    "    - A base case\n",
    "    - A recursive case\n",
    "## Syntax/Usage using an Example:"
   ]
  },
  {
   "cell_type": "code",
   "execution_count": 6,
   "metadata": {},
   "outputs": [
    {
     "name": "stdout",
     "output_type": "stream",
     "text": [
      "120\n"
     ]
    }
   ],
   "source": [
    "def fact(num):\n",
    "    # Base Case\n",
    "    if num == 1:\n",
    "        return 1\n",
    "    else:\n",
    "        return num * fact(num-1)\n",
    "\n",
    "\n",
    "print(fact(5))"
   ]
  },
  {
   "cell_type": "markdown",
   "metadata": {},
   "source": [
    "# Resources\n",
    "- PF3_Functions.pdf on teams"
   ]
  },
  {
   "cell_type": "markdown",
   "metadata": {},
   "source": [
    "# Practice Questions"
   ]
  },
  {
   "cell_type": "markdown",
   "metadata": {},
   "source": [
    "- Write a program to find the sum of N natural numbers using a recursive function."
   ]
  },
  {
   "cell_type": "code",
   "execution_count": 7,
   "metadata": {},
   "outputs": [
    {
     "data": {
      "text/plain": [
       "15"
      ]
     },
     "execution_count": 7,
     "metadata": {},
     "output_type": "execute_result"
    }
   ],
   "source": [
    "def sum(num): \n",
    "    if num == 1:\n",
    "        return 1\n",
    "    else:\n",
    "        return num + sum(num-1)\n",
    "    \n",
    "sum(5)"
   ]
  },
  {
   "cell_type": "markdown",
   "metadata": {},
   "source": [
    "- Write a program to calculate the sum of a list of numbers."
   ]
  },
  {
   "cell_type": "code",
   "execution_count": 9,
   "metadata": {},
   "outputs": [
    {
     "data": {
      "text/plain": [
       "15"
      ]
     },
     "execution_count": 9,
     "metadata": {},
     "output_type": "execute_result"
    }
   ],
   "source": [
    "l = [1,2,3,4,5]\n",
    "\n",
    "def lsum(lis):\n",
    "    if len(lis) == 1:\n",
    "        return lis[0]\n",
    "    else:\n",
    "        return lis[0] + lsum(lis[1:])\n",
    "lsum(l)"
   ]
  },
  {
   "cell_type": "markdown",
   "metadata": {},
   "source": [
    "- Write a program to get the sum of a non-negative integer."
   ]
  },
  {
   "cell_type": "code",
   "execution_count": 12,
   "metadata": {},
   "outputs": [
    {
     "data": {
      "text/plain": [
       "6"
      ]
     },
     "execution_count": 12,
     "metadata": {},
     "output_type": "execute_result"
    }
   ],
   "source": [
    "# 15\n",
    "# 1 + 5 = 6\n",
    "# ab % 10 = a\n",
    "# ab / 10 = b\n",
    "def sum(num):\n",
    "    if num <= 9:\n",
    "        return num\n",
    "    else:\n",
    "        return num % 10 + sum(num // 10)\n",
    "    \n",
    "sum(15)\n",
    "    "
   ]
  },
  {
   "cell_type": "markdown",
   "metadata": {},
   "source": [
    "- Print fibonacci sequence upto nth term using recursion"
   ]
  },
  {
   "cell_type": "code",
   "execution_count": 13,
   "metadata": {},
   "outputs": [
    {
     "name": "stdout",
     "output_type": "stream",
     "text": [
      "0 1 1 2 3 5 8 13 21 34 "
     ]
    }
   ],
   "source": []
  },
  {
   "cell_type": "markdown",
   "metadata": {},
   "source": [
    "## List Methods"
   ]
  },
  {
   "cell_type": "markdown",
   "metadata": {},
   "source": [
    "### Sorting (also includes string 🤓)\n",
    "\n"
   ]
  },
  {
   "cell_type": "markdown",
   "metadata": {},
   "source": [
    "- sort applied for list, sets, tuples, etc\n",
    "- sorted applied for strings and dicts\n",
    "- key allows for a custom sorting order based on a lambda function (**example give below**)\n",
    "- reverse allows to print in a reverse sorting order based on default or custom order using key paramter"
   ]
  },
  {
   "cell_type": "code",
   "execution_count": 15,
   "metadata": {},
   "outputs": [],
   "source": [
    "nums = [1,4,3,5,2]\n",
    "nums.sort(reverse=True)\n",
    "names = {\"Param\": 4, \"Yash\": 11, \"Jash\": 10, \"Aditya\": 18}\n",
    "# print(nums)\n",
    "names = sorted(names.items(), key= lambda x: x[1]) \n",
    "# ! print(names.items())\n",
    "# lambda x - [\"Aditya\", 18]\n",
    "print(names)"
   ]
  },
  {
   "cell_type": "markdown",
   "metadata": {},
   "source": [
    "for rest of the list methods refer:- https://www.w3schools.com/python/python_ref_list.asp"
   ]
  },
  {
   "cell_type": "markdown",
   "metadata": {},
   "source": [
    "## Tuple Methods"
   ]
  },
  {
   "cell_type": "markdown",
   "metadata": {},
   "source": [
    "### Any Method"
   ]
  },
  {
   "cell_type": "markdown",
   "metadata": {},
   "source": [
    "> The any() method in Python returns True if any element of an iterable (such as a tuple) is true, otherwise it returns False.\n",
    "\n",
    "Syntax:- `any(iterable)`"
   ]
  },
  {
   "cell_type": "code",
   "execution_count": null,
   "metadata": {},
   "outputs": [],
   "source": [
    "result = any((False, True, False))\n",
    "print(result)"
   ]
  },
  {
   "cell_type": "markdown",
   "metadata": {},
   "source": [
    "### All Method"
   ]
  },
  {
   "cell_type": "markdown",
   "metadata": {},
   "source": [
    "> The all() method in Python returns True if all elements of an iterable (such as a tuple) are true (or if the iterable is empty), otherwise it returns False.\n",
    "\n",
    "Snytax:- `all(iterable)`"
   ]
  },
  {
   "cell_type": "code",
   "execution_count": 1,
   "metadata": {},
   "outputs": [
    {
     "name": "stdout",
     "output_type": "stream",
     "text": [
      "False\n"
     ]
    }
   ],
   "source": [
    "result = all((True, True, False))\n",
    "print(result)"
   ]
  },
  {
   "cell_type": "markdown",
   "metadata": {},
   "source": [
    "for rest of the list refer:- https://www.w3schools.com/python/python_ref_tuple.asp"
   ]
  },
  {
   "cell_type": "markdown",
   "metadata": {},
   "source": [
    "## Dictionary Methods"
   ]
  },
  {
   "cell_type": "markdown",
   "metadata": {},
   "source": [
    "### clear Method"
   ]
  },
  {
   "cell_type": "markdown",
   "metadata": {},
   "source": [
    "> Removes all items from the dictionary\n",
    "\n",
    "Syntax:- `dictionary.clear()`"
   ]
  },
  {
   "cell_type": "code",
   "execution_count": 16,
   "metadata": {},
   "outputs": [
    {
     "name": "stdout",
     "output_type": "stream",
     "text": [
      "{'name': 'John', 'age': 30, 'city': 'New York'}\n",
      "{}\n"
     ]
    }
   ],
   "source": [
    "# Creating a dictionary\n",
    "my_dict = {'name': 'John', 'age': 30, 'city': 'New York'}\n",
    "\n",
    "print(my_dict)\n",
    "\n",
    "# Using clear method\n",
    "my_dict.clear()\n",
    "\n",
    "# Printing the dictionary after using clear\n",
    "print(my_dict)"
   ]
  },
  {
   "cell_type": "markdown",
   "metadata": {},
   "source": [
    "### copy Method"
   ]
  },
  {
   "cell_type": "markdown",
   "metadata": {},
   "source": [
    "> Returns a copy of the dictionary\n",
    "\n",
    "syntax:- `new_dict = original_dict.copy()`"
   ]
  },
  {
   "cell_type": "code",
   "execution_count": 17,
   "metadata": {},
   "outputs": [
    {
     "name": "stdout",
     "output_type": "stream",
     "text": [
      "Original Dictionary: {'name': 'Alice', 'age': 25, 'city': 'London'}\n",
      "Copied Dictionary: {'name': 'Alice', 'age': 25, 'city': 'London'}\n"
     ]
    }
   ],
   "source": [
    "# Creating a dictionary\n",
    "original_dict = {'name': 'Alice', 'age': 25, 'city': 'London'}\n",
    "\n",
    "# Using copy method\n",
    "copied_dict = original_dict.copy()\n",
    "\n",
    "# Printing the original and copied dictionary\n",
    "print(\"Original Dictionary:\", original_dict)\n",
    "print(\"Copied Dictionary:\", copied_dict)"
   ]
  },
  {
   "cell_type": "markdown",
   "metadata": {},
   "source": [
    "### fromkeys Method"
   ]
  },
  {
   "cell_type": "markdown",
   "metadata": {},
   "source": [
    "> Creates a dictionary from the given sequence\n",
    "\n",
    "syntax:- `new_dict = dict.fromkeys(keys, value)`\n",
    "\n",
    "`keys` is the iterable containing the keys for the new dictionary.\n",
    "\n",
    "`value` is the value to be set for each key in the dictionary. This is optional; if not provided, the default value for all keys will be None.\n"
   ]
  },
  {
   "cell_type": "code",
   "execution_count": null,
   "metadata": {},
   "outputs": [],
   "source": [
    "# Defining a list of keys\n",
    "keys = ['a', 'b', 'c']\n",
    "\n",
    "# Using fromkeys method to create a dictionary\n",
    "# with all values initialized to 0\n",
    "new_dict = dict.fromkeys(keys, 0)\n",
    "\n",
    "# Printing the new dictionary\n",
    "print(new_dict)"
   ]
  },
  {
   "cell_type": "markdown",
   "metadata": {},
   "source": [
    "### get Method"
   ]
  },
  {
   "cell_type": "markdown",
   "metadata": {},
   "source": [
    "> Returns the value for the given key\n",
    "\n",
    "syntax:- `value = dictionary.get(key, default)`\n",
    "\n",
    "`key` is the key for which to search in the dictionary.\n",
    "\n",
    "`default` is the value to return if the key is not found. This parameter is optional, and if not provided, None is returned when the key is not present.\n"
   ]
  },
  {
   "cell_type": "code",
   "execution_count": 18,
   "metadata": {},
   "outputs": [
    {
     "name": "stdout",
     "output_type": "stream",
     "text": [
      "Name: Emma\n",
      "Age: 32\n",
      "Profession: Unknown\n"
     ]
    }
   ],
   "source": [
    "# Creating a dictionary\n",
    "my_dict = {'name': 'Emma', 'age': 32}\n",
    "\n",
    "# Using get method to retrieve a value\n",
    "name = my_dict.get('name')\n",
    "age = my_dict.get('age')\n",
    "profession = my_dict.get('profession', 'Unknown')\n",
    "\n",
    "# Printing the results\n",
    "print(\"Name:\", name)\n",
    "print(\"Age:\", age)\n",
    "print(\"Profession:\", profession)"
   ]
  },
  {
   "cell_type": "markdown",
   "metadata": {},
   "source": [
    "### items Method"
   ]
  },
  {
   "cell_type": "markdown",
   "metadata": {},
   "source": [
    "> Return the list with all dictionary keys with values\n",
    "\n",
    "syntax:- `items_view = dictionary.items()`"
   ]
  },
  {
   "cell_type": "code",
   "execution_count": 21,
   "metadata": {},
   "outputs": [
    {
     "name": "stdout",
     "output_type": "stream",
     "text": [
      "name David\n",
      "age 28\n",
      "city Toronto\n"
     ]
    }
   ],
   "source": [
    "# Creating a dictionary\n",
    "my_dict = {'name': 'David', 'age': 28, 'city': 'Toronto'}\n",
    "\n",
    "# Using items method\n",
    "dict_items = my_dict.items()\n",
    "# print(dict_items)\n",
    "\n",
    "# Iterating over the items and printing them\n",
    "for key, value in dict_items:\n",
    "    print(key, value)"
   ]
  },
  {
   "cell_type": "markdown",
   "metadata": {},
   "source": [
    "### keys Method"
   ]
  },
  {
   "cell_type": "markdown",
   "metadata": {},
   "source": [
    "> Returns a view object that displays a list of all the keys in the dictionary in order of insertion\n",
    "\n",
    "syntax:- `keys_view = dictionary.keys()`"
   ]
  },
  {
   "cell_type": "code",
   "execution_count": 22,
   "metadata": {},
   "outputs": [
    {
     "name": "stdout",
     "output_type": "stream",
     "text": [
      "name\n",
      "age\n",
      "country\n"
     ]
    }
   ],
   "source": [
    "# Creating a dictionary\n",
    "my_dict = {'name': 'Sara', 'age': 35, 'country': 'USA'}\n",
    "\n",
    "# Using keys method\n",
    "dict_keys = my_dict.keys()\n",
    "\n",
    "# Iterating over the keys and printing them\n",
    "for key in dict_keys:\n",
    "    print(key)"
   ]
  },
  {
   "cell_type": "markdown",
   "metadata": {},
   "source": [
    "### values Method"
   ]
  },
  {
   "cell_type": "markdown",
   "metadata": {},
   "source": [
    "> Updates the dictionary with the elements from another dictionary\n",
    "\n",
    "syntax:- `values_view = dictionary.values()`"
   ]
  },
  {
   "cell_type": "code",
   "execution_count": 23,
   "metadata": {},
   "outputs": [
    {
     "name": "stdout",
     "output_type": "stream",
     "text": [
      "Mark\n",
      "40\n",
      "Engineer\n"
     ]
    }
   ],
   "source": [
    "# Creating a dictionary\n",
    "my_dict = {'name': 'Mark', 'age': 40, 'occupation': 'Engineer'}\n",
    "\n",
    "# Using values method\n",
    "dict_values = my_dict.values()\n",
    "\n",
    "# Iterating over the values and printing them\n",
    "for value in dict_values:\n",
    "    print(value)\n"
   ]
  },
  {
   "cell_type": "markdown",
   "metadata": {},
   "source": [
    "### pop Method"
   ]
  },
  {
   "cell_type": "markdown",
   "metadata": {},
   "source": [
    "> Returns and removes the element with the given key\n",
    "\n",
    "syntax:- `value = dictionary.pop(key[, default])`\n",
    "\n",
    "key is the key to be removed and returned from the dictionary.\n",
    "\n",
    "default is optional and is the value to return if the key is not found. If default is not provided and the key is not found, a KeyError is raised."
   ]
  },
  {
   "cell_type": "code",
   "execution_count": 24,
   "metadata": {},
   "outputs": [
    {
     "name": "stdout",
     "output_type": "stream",
     "text": [
      "Age: 27\n",
      "Country: Not Found\n",
      "Updated Dictionary: {'name': 'Emily', 'city': 'Boston'}\n"
     ]
    }
   ],
   "source": [
    "# Creating a dictionary\n",
    "my_dict = {'name': 'Emily', 'age': 27, 'city': 'Boston'}\n",
    "\n",
    "# Using pop method to remove a key-value pair\n",
    "age = my_dict.pop('age')\n",
    "\n",
    "# Trying to pop a non-existent key with a default value\n",
    "country = my_dict.pop('country', 'Not Found')\n",
    "\n",
    "# Printing results and the updated dictionary\n",
    "print(\"Age:\", age)\n",
    "print(\"Country:\", country)\n",
    "print(\"Updated Dictionary:\", my_dict)\n"
   ]
  },
  {
   "cell_type": "markdown",
   "metadata": {},
   "source": [
    "### popitem Method"
   ]
  },
  {
   "cell_type": "markdown",
   "metadata": {},
   "source": [
    "> Returns and removes the last inserted key-value pair from the dictionary\n",
    "\n",
    "syntax:- `key, value = dictionary.popitem()`\n",
    "\n"
   ]
  },
  {
   "cell_type": "code",
   "execution_count": 2,
   "metadata": {},
   "outputs": [
    {
     "name": "stdout",
     "output_type": "stream",
     "text": [
      "Removed item: ('city', 'Berlin')\n",
      "Updated Dictionary: {'name': 'Laura', 'age': 33}\n"
     ]
    }
   ],
   "source": [
    "# Creating a dictionary\n",
    "my_dict = {'name': 'Laura', 'age': 33, 'city': 'Berlin'}\n",
    "\n",
    "# Using popitem method to remove the last inserted item\n",
    "last_item = my_dict.popitem()\n",
    "\n",
    "# Printing the removed item and the updated dictionary\n",
    "print(\"Removed item:\", last_item)\n",
    "print(\"Updated Dictionary:\", my_dict)"
   ]
  },
  {
   "cell_type": "markdown",
   "metadata": {},
   "source": [
    "### update Method"
   ]
  },
  {
   "cell_type": "markdown",
   "metadata": {},
   "source": [
    "> Returns a list of all the values available in a given dictionary\n",
    "\n",
    "syntax:- `dictionary.update(other)`\n",
    "\n",
    "`other` can be a dictionary or an iterable of key-value pairs (e.g., tuples). If other is a dictionary, its key-value pairs are directly added or updated in dictionary. If it's an iterable, it should provide pairs of keys and values.\n"
   ]
  },
  {
   "cell_type": "code",
   "execution_count": 27,
   "metadata": {},
   "outputs": [
    {
     "name": "stdout",
     "output_type": "stream",
     "text": [
      "{'name': 'Jack', 'age': 22, 'city': 'New York'}\n"
     ]
    }
   ],
   "source": [
    "# Creating two dictionaries\n",
    "my_dict = {'name': 'Jack', 'age': 21}\n",
    "new_info = {'age': 22, 'city': 'New York'}\n",
    "\n",
    "# Using update method to add/update key-value pairs\n",
    "my_dict.update(new_info)\n",
    "\n",
    "# Printing the updated dictionary\n",
    "print(my_dict)\n"
   ]
  },
  {
   "cell_type": "markdown",
   "metadata": {},
   "source": [
    "### setdefault Method"
   ]
  },
  {
   "cell_type": "markdown",
   "metadata": {},
   "source": [
    "> Returns the value of a key if the key is in the dictionary else inserts the key with a value to the dictionary\n",
    "\n",
    "syntax:- `value = dictionary.setdefault(key, default_value)`\n",
    "\n",
    "`key` is the key to be checked in the dictionary.\n",
    "\n",
    "`default_value` is the value to set if the key is not found. This parameter is optional, and if not provided, None is used as the default value."
   ]
  },
  {
   "cell_type": "code",
   "execution_count": 3,
   "metadata": {},
   "outputs": [
    {
     "name": "stdout",
     "output_type": "stream",
     "text": [
      "Age: 30\n",
      "City: Unknown\n",
      "Updated Dictionary: {'name': 'Sophia', 'age': 30, 'city': 'Unknown'}\n"
     ]
    }
   ],
   "source": [
    "# Creating a dictionary\n",
    "my_dict = {'name': 'Sophia', 'age': 30}\n",
    "\n",
    "# Using setdefault method\n",
    "# This will return 30 as 'age' is present in the dictionary\n",
    "age = my_dict.setdefault('age', 25)\n",
    "\n",
    "# This will add 'city' to the dictionary with the default value 'Unknown'\n",
    "city = my_dict.setdefault('city', 'Unknown')\n",
    "\n",
    "# Printing the values and the updated dictionary\n",
    "print(\"Age:\", age)\n",
    "print(\"City:\", city)\n",
    "print(\"Updated Dictionary:\", my_dict)\n"
   ]
  },
  {
   "cell_type": "markdown",
   "metadata": {},
   "source": [
    "# Sets\n",
    "- They are like lists that only have unique values\n",
    "- They are unordered (can't be indexed)"
   ]
  },
  {
   "cell_type": "markdown",
   "metadata": {},
   "source": [
    "# Operators for Sets:\n",
    "- Intersection: \n",
    "    - Usage: A & B\n",
    "    - Same as A.intersection(B)\n",
    "- Difference:\n",
    "    - Usage: A - B\n",
    "    - Same as A.difference(B)\n",
    "- Symmetric Difference:\n",
    "    - Usage: A ^ B\n",
    "    - Same as A.symmetric_difference(B)\n",
    "- Union:\n",
    "    - Usage: A | B\n",
    "    - Same as A.union(B)"
   ]
  },
  {
   "cell_type": "markdown",
   "metadata": {},
   "source": [
    "# Basic program of printing a set"
   ]
  },
  {
   "cell_type": "code",
   "execution_count": null,
   "metadata": {},
   "outputs": [],
   "source": [
    "my_set = set([1,2,3,4])\n",
    "print(my_set)"
   ]
  },
  {
   "cell_type": "markdown",
   "metadata": {},
   "source": [
    "# Indexing is NOT possible in sets"
   ]
  },
  {
   "cell_type": "code",
   "execution_count": null,
   "metadata": {},
   "outputs": [],
   "source": [
    "my_set = set([1,2,3,4])\n",
    "print(my_set[0]) # Error (gaand mara)"
   ]
  },
  {
   "cell_type": "markdown",
   "metadata": {},
   "source": [
    "# Set Methods\n",
    "## add()\n",
    "- Adds element to set"
   ]
  },
  {
   "cell_type": "code",
   "execution_count": null,
   "metadata": {},
   "outputs": [],
   "source": [
    "fruits = {\"apple\", \"banana\", \"cherry\"}\n",
    "fruits.add(\"orange\")\n",
    "print(fruits)"
   ]
  },
  {
   "cell_type": "markdown",
   "metadata": {},
   "source": [
    "## clear()\n",
    "- Remove all elements of a set"
   ]
  },
  {
   "cell_type": "code",
   "execution_count": 28,
   "metadata": {},
   "outputs": [
    {
     "name": "stdout",
     "output_type": "stream",
     "text": [
      "set()\n"
     ]
    }
   ],
   "source": [
    "fruits = {\"apple\", \"banana\", \"cherry\"}\n",
    "fruits.clear()\n",
    "print(fruits)"
   ]
  },
  {
   "cell_type": "markdown",
   "metadata": {},
   "source": [
    "## copy()\n",
    "- Copies another set"
   ]
  },
  {
   "cell_type": "code",
   "execution_count": 29,
   "metadata": {},
   "outputs": [
    {
     "name": "stdout",
     "output_type": "stream",
     "text": [
      "{'banana', 'cherry', 'apple'}\n"
     ]
    }
   ],
   "source": [
    "fruits = {\"apple\", \"banana\", \"cherry\"}\n",
    "x = fruits.copy()\n",
    "print(x)"
   ]
  },
  {
   "cell_type": "markdown",
   "metadata": {},
   "source": [
    "## difference()\n",
    "- Return a set that contains the items that only exist in set x, and not in set y\n",
    "- Order matters:\n",
    "    - x.difference(y) will return a set that contains the items that only exist in set X, and not in set Y\n",
    "    - y.difference(x) will return a set that contains the items that only exist in set Y, and not in set X\n",
    "### Syntaxes:\n",
    "- a.difference(b)\n",
    "- a - b"
   ]
  },
  {
   "cell_type": "code",
   "execution_count": 4,
   "metadata": {},
   "outputs": [
    {
     "name": "stdout",
     "output_type": "stream",
     "text": [
      "{'banana', 'cherry'}\n"
     ]
    }
   ],
   "source": [
    "x = {\"apple\", \"banana\", \"cherry\"}\n",
    "y = {\"google\", \"microsoft\", \"apple\"}\n",
    "\n",
    "z = x.difference(y)\n",
    "\n",
    "print(z)"
   ]
  },
  {
   "cell_type": "markdown",
   "metadata": {},
   "source": [
    "### Venn Diagram for difference()\n",
    "![image.png](../images/set-difference.png)"
   ]
  },
  {
   "cell_type": "markdown",
   "metadata": {},
   "source": [
    "## difference_update()\n",
    "- Removes items that exist in both sets\n",
    "- Order matters here in the same way as it does for difference() method"
   ]
  },
  {
   "cell_type": "code",
   "execution_count": null,
   "metadata": {},
   "outputs": [],
   "source": [
    "x = {\"apple\", \"banana\", \"cherry\"}\n",
    "y = {\"google\", \"microsoft\", \"apple\"}\n",
    "\n",
    "y.difference_update(x)\n",
    "\n",
    "print(y)"
   ]
  },
  {
   "cell_type": "markdown",
   "metadata": {},
   "source": [
    "## discard()\n",
    "- Removes specified element from set"
   ]
  },
  {
   "cell_type": "code",
   "execution_count": 33,
   "metadata": {},
   "outputs": [
    {
     "name": "stdout",
     "output_type": "stream",
     "text": [
      "{'banana', 'cherry', 'apple'}\n"
     ]
    }
   ],
   "source": [
    "fruits = {\"apple\", \"banana\", \"cherry\"}\n",
    "fruits.discard(\"banana\")\n",
    "print(fruits)"
   ]
  },
  {
   "cell_type": "markdown",
   "metadata": {},
   "source": [
    "## intersection()\n",
    "- Return a set that contains the items that exist in both set x, and set y:\n",
    "### Syntaxes:\n",
    "- a.intersection(b)\n",
    "- a & b"
   ]
  },
  {
   "cell_type": "code",
   "execution_count": 31,
   "metadata": {},
   "outputs": [
    {
     "name": "stdout",
     "output_type": "stream",
     "text": [
      "{'apple'}\n"
     ]
    }
   ],
   "source": [
    "x = {\"apple\", \"banana\", \"cherry\"}\n",
    "y = {\"google\", \"microsoft\", \"apple\"}\n",
    "\n",
    "z = x.intersection(y)\n",
    "\n",
    "print(z)"
   ]
  },
  {
   "cell_type": "markdown",
   "metadata": {},
   "source": [
    "### Venn Diagram for intersection()\n",
    "![image.png](../images/set-intersection.png)"
   ]
  },
  {
   "cell_type": "markdown",
   "metadata": {},
   "source": [
    "## intersection_update()\n",
    "- Remove the items that is not present in both x and y:"
   ]
  },
  {
   "cell_type": "code",
   "execution_count": null,
   "metadata": {},
   "outputs": [],
   "source": [
    "x = {\"apple\", \"banana\", \"cherry\"}\n",
    "y = {\"google\", \"microsoft\", \"apple\"}\n",
    "\n",
    "x.intersection_update(y)\n",
    "\n",
    "print(x)"
   ]
  },
  {
   "cell_type": "markdown",
   "metadata": {},
   "source": [
    "## disjoint()\n",
    "- Return True if no items in set x is present in set y:"
   ]
  },
  {
   "cell_type": "code",
   "execution_count": 5,
   "metadata": {},
   "outputs": [
    {
     "name": "stdout",
     "output_type": "stream",
     "text": [
      "True\n"
     ]
    }
   ],
   "source": [
    "x = {\"apple\", \"banana\", \"cherry\"}\n",
    "y = {\"google\", \"microsoft\", \"facebook\"}\n",
    "\n",
    "z = x.isdisjoint(y)\n",
    "\n",
    "print(z)"
   ]
  },
  {
   "cell_type": "markdown",
   "metadata": {},
   "source": [
    "## issubset()\n",
    "- Return True if all items in set x are present in set y:"
   ]
  },
  {
   "cell_type": "code",
   "execution_count": null,
   "metadata": {},
   "outputs": [],
   "source": [
    "a = {1, 2, 3, 4, 5, 6}\n",
    "b = {4, 5, 6}\n",
    "\n",
    "c = b.issubset(a)\n",
    "\n",
    "print(c) # True"
   ]
  },
  {
   "cell_type": "markdown",
   "metadata": {},
   "source": [
    "### Venn Diagram of subset\n",
    "![image.png](../images/set-subset.png)"
   ]
  },
  {
   "cell_type": "markdown",
   "metadata": {},
   "source": [
    "## superset()\n",
    "- Return True if all items in set x are present in set y:"
   ]
  },
  {
   "cell_type": "code",
   "execution_count": null,
   "metadata": {},
   "outputs": [],
   "source": [
    "a = {1, 2, 3, 4, 5, 6}\n",
    "b = {4, 5, 6}\n",
    "\n",
    "c = a.issuperset(b)\n",
    "\n",
    "print(c) # True"
   ]
  },
  {
   "cell_type": "markdown",
   "metadata": {},
   "source": [
    "## pop()\n",
    "- Remove a random element from the set"
   ]
  },
  {
   "cell_type": "code",
   "execution_count": 22,
   "metadata": {},
   "outputs": [
    {
     "name": "stdout",
     "output_type": "stream",
     "text": [
      "{'cherry', 'apple'}\n"
     ]
    }
   ],
   "source": [
    "fruits = {\"apple\", \"banana\", \"cherry\"}\n",
    "fruits.pop()\n",
    "print(fruits)"
   ]
  },
  {
   "cell_type": "markdown",
   "metadata": {},
   "source": [
    "## remove()\n",
    "- Remove a specified element from the set"
   ]
  },
  {
   "cell_type": "code",
   "execution_count": 34,
   "metadata": {},
   "outputs": [
    {
     "name": "stdout",
     "output_type": "stream",
     "text": [
      "{'cherry', 'apple'}\n"
     ]
    }
   ],
   "source": [
    "fruits = {\"apple\", \"banana\", \"cherry\"}\n",
    "fruits.remove(\"banana\")\n",
    "print(fruits)"
   ]
  },
  {
   "cell_type": "markdown",
   "metadata": {},
   "source": [
    "## symmetric_difference()\n",
    "- Return a set that contains all items from both sets, except items that are present in both sets\n",
    "### Syntaxes:\n",
    "- a.symmetric_difference(b)\n",
    "- a ^ b"
   ]
  },
  {
   "cell_type": "code",
   "execution_count": 35,
   "metadata": {},
   "outputs": [
    {
     "name": "stdout",
     "output_type": "stream",
     "text": [
      "{'google', 'microsoft', 'banana', 'cherry'}\n"
     ]
    }
   ],
   "source": [
    "x = {\"apple\", \"banana\", \"cherry\"}\n",
    "y = {\"google\", \"microsoft\", \"apple\"}\n",
    "\n",
    "z = x.symmetric_difference(y)\n",
    "\n",
    "print(z)"
   ]
  },
  {
   "cell_type": "markdown",
   "metadata": {},
   "source": [
    "### Venn Diagram for symmetric_difference()\n",
    "![image.png](../images/set-symmetric-difference.png)"
   ]
  },
  {
   "cell_type": "markdown",
   "metadata": {},
   "source": [
    "## symmetric_difference_update()\n",
    "- Remove the items that are present in both sets, AND insert the items that is not present in both sets"
   ]
  },
  {
   "cell_type": "code",
   "execution_count": null,
   "metadata": {},
   "outputs": [],
   "source": [
    "x = {\"apple\", \"banana\", \"cherry\"}\n",
    "y = {\"google\", \"microsoft\", \"apple\"}\n",
    "\n",
    "x.symmetric_difference_update(y)\n",
    "\n",
    "print(x) # Updates only x"
   ]
  },
  {
   "cell_type": "markdown",
   "metadata": {},
   "source": [
    "## union()\n",
    "- Return a set that contains all items from both sets, duplicates are excluded\n",
    "### Syntaxes:\n",
    "- A | B\n",
    "- A.union(B)"
   ]
  },
  {
   "cell_type": "code",
   "execution_count": 36,
   "metadata": {},
   "outputs": [
    {
     "name": "stdout",
     "output_type": "stream",
     "text": [
      "{'good', 1, 3.2, 7.1, 'hi', 'Python', 17, -4}\n"
     ]
    }
   ],
   "source": [
    "A = {\"good\", 1, 17, 3.2, \"hi\"}\n",
    "B = {17, 7.1, \"good\", -4, \"Python\"}\n",
    " \n",
    "result = A.union(B)\n",
    "print(result)"
   ]
  },
  {
   "cell_type": "markdown",
   "metadata": {},
   "source": [
    "### Venn diagram for union\n",
    "![image.png](../images/set-union.png)"
   ]
  },
  {
   "cell_type": "markdown",
   "metadata": {},
   "source": [
    "## update()\n",
    "- Insert the items from set y into set x"
   ]
  },
  {
   "cell_type": "code",
   "execution_count": 37,
   "metadata": {},
   "outputs": [
    {
     "name": "stdout",
     "output_type": "stream",
     "text": [
      "{'google', 'microsoft', 'apple', 'banana', 'cherry'}\n"
     ]
    }
   ],
   "source": [
    "x = {\"apple\", \"banana\", \"cherry\"}\n",
    "y = {\"google\", \"microsoft\", \"apple\"}\n",
    "\n",
    "x.update(y)\n",
    "\n",
    "print(x)"
   ]
  },
  {
   "cell_type": "markdown",
   "metadata": {},
   "source": [
    "# Resources:\n",
    "- Lab 04\n",
    "- PDF: PF2_Data Structures.pdf on teams"
   ]
  },
  {
   "cell_type": "markdown",
   "metadata": {},
   "source": [
    "# Practice Questions:"
   ]
  },
  {
   "cell_type": "markdown",
   "metadata": {},
   "source": [
    "Perform following operations on set: intersection of sets, union of sets, set difference, symmetric difference, clear a set."
   ]
  },
  {
   "cell_type": "code",
   "execution_count": null,
   "metadata": {},
   "outputs": [],
   "source": []
  },
  {
   "cell_type": "markdown",
   "metadata": {},
   "source": [
    "Apply set function to find the count of number of vowels in a given string."
   ]
  },
  {
   "cell_type": "code",
   "execution_count": 40,
   "metadata": {},
   "outputs": [
    {
     "name": "stdout",
     "output_type": "stream",
     "text": [
      "2\n"
     ]
    }
   ],
   "source": [
    "print(len(set([letter.lower() for letter in input(\"enter string \") if letter.lower() in \"aeiou\"])))"
   ]
  },
  {
   "cell_type": "markdown",
   "metadata": {},
   "source": [
    "Read a list of numbers and remove the duplicate numbers from it."
   ]
  },
  {
   "cell_type": "code",
   "execution_count": null,
   "metadata": {},
   "outputs": [],
   "source": []
  },
  {
   "cell_type": "markdown",
   "metadata": {},
   "source": [
    "Implement Linear Search using List."
   ]
  },
  {
   "cell_type": "code",
   "execution_count": null,
   "metadata": {},
   "outputs": [],
   "source": []
  },
  {
   "cell_type": "markdown",
   "metadata": {},
   "source": [
    "Write Python program to perform following operations on set: intersection of sets, union of sets, set difference, symmetric difference, clear a set"
   ]
  },
  {
   "cell_type": "code",
   "execution_count": null,
   "metadata": {},
   "outputs": [],
   "source": []
  },
  {
   "cell_type": "markdown",
   "metadata": {},
   "source": [
    "Write Python program to create a tuple, and find the minimum and maximum number from it."
   ]
  },
  {
   "cell_type": "code",
   "execution_count": null,
   "metadata": {},
   "outputs": [],
   "source": []
  },
  {
   "cell_type": "markdown",
   "metadata": {},
   "source": [
    "print the number in words for Example: 1234 => One Two Three Four"
   ]
  },
  {
   "cell_type": "code",
   "execution_count": null,
   "metadata": {},
   "outputs": [],
   "source": []
  },
  {
   "cell_type": "markdown",
   "metadata": {},
   "source": [
    "sort (ascending and descending) a dictionary by keys, values and items."
   ]
  },
  {
   "cell_type": "code",
   "execution_count": null,
   "metadata": {},
   "outputs": [],
   "source": []
  },
  {
   "cell_type": "markdown",
   "metadata": {},
   "source": [
    "apply dictionary comprehension to convert the item prices of a shopping list from dollars to pounds."
   ]
  },
  {
   "cell_type": "code",
   "execution_count": null,
   "metadata": {},
   "outputs": [],
   "source": []
  }
 ],
 "metadata": {
  "kernelspec": {
   "display_name": "Python 3",
   "language": "python",
   "name": "python3"
  },
  "language_info": {
   "codemirror_mode": {
    "name": "ipython",
    "version": 3
   },
   "file_extension": ".py",
   "mimetype": "text/x-python",
   "name": "python",
   "nbconvert_exporter": "python",
   "pygments_lexer": "ipython3",
   "version": "3.10.12"
  }
 },
 "nbformat": 4,
 "nbformat_minor": 2
}
