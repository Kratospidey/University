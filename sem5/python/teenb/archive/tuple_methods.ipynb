{
 "cells": [
  {
   "cell_type": "markdown",
   "metadata": {},
   "source": [
    "## Tuple Methods"
   ]
  },
  {
   "cell_type": "markdown",
   "metadata": {},
   "source": [
    "### Any Method"
   ]
  },
  {
   "cell_type": "markdown",
   "metadata": {},
   "source": [
    "> The any() method in Python returns True if any element of an iterable (such as a tuple) is true, otherwise it returns False.\n",
    "\n",
    "Syntax:- `any(iterable)`"
   ]
  },
  {
   "cell_type": "code",
   "execution_count": null,
   "metadata": {},
   "outputs": [],
   "source": [
    "result = any((False, True, False))\n",
    "print(result)"
   ]
  },
  {
   "cell_type": "markdown",
   "metadata": {},
   "source": [
    "## All Method"
   ]
  },
  {
   "cell_type": "markdown",
   "metadata": {},
   "source": [
    "> The all() method in Python returns True if all elements of an iterable (such as a tuple) are true (or if the iterable is empty), otherwise it returns False.\n",
    "\n",
    "Snytax:- `all(iterable)`"
   ]
  },
  {
   "cell_type": "code",
   "execution_count": null,
   "metadata": {},
   "outputs": [],
   "source": [
    "result = all((True, True, False))\n",
    "print(result)"
   ]
  },
  {
   "cell_type": "markdown",
   "metadata": {},
   "source": [
    "for rest of the list refer:- https://www.w3schools.com/python/python_ref_tuple.asp"
   ]
  }
 ],
 "metadata": {
  "kernelspec": {
   "display_name": "Python 3",
   "language": "python",
   "name": "python3"
  },
  "language_info": {
   "name": "python",
   "version": "3.10.12"
  }
 },
 "nbformat": 4,
 "nbformat_minor": 2
}
