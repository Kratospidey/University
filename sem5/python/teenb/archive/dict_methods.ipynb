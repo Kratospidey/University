{
 "cells": [
  {
   "cell_type": "markdown",
   "metadata": {},
   "source": [
    "## Dictionary Methods"
   ]
  },
  {
   "cell_type": "markdown",
   "metadata": {},
   "source": [
    "### clear Method"
   ]
  },
  {
   "cell_type": "markdown",
   "metadata": {},
   "source": [
    "> Removes all items from the dictionary\n",
    "\n",
    "Syntax:- `dictionary.clear()`"
   ]
  },
  {
   "cell_type": "code",
   "execution_count": null,
   "metadata": {},
   "outputs": [],
   "source": [
    "# Creating a dictionary\n",
    "my_dict = {'name': 'John', 'age': 30, 'city': 'New York'}\n",
    "\n",
    "print(my_dict)\n",
    "\n",
    "# Using clear method\n",
    "my_dict.clear()\n",
    "\n",
    "# Printing the dictionary after using clear\n",
    "print(my_dict)"
   ]
  },
  {
   "cell_type": "markdown",
   "metadata": {},
   "source": [
    "### copy Method"
   ]
  },
  {
   "cell_type": "markdown",
   "metadata": {},
   "source": [
    "> Returns a shallow copy of the dictionary\n",
    "\n",
    "syntax:- `new_dict = original_dict.copy()`"
   ]
  },
  {
   "cell_type": "code",
   "execution_count": null,
   "metadata": {},
   "outputs": [],
   "source": [
    "# Creating a dictionary\n",
    "original_dict = {'name': 'Alice', 'age': 25, 'city': 'London'}\n",
    "\n",
    "# Using copy method\n",
    "copied_dict = original_dict.copy()\n",
    "\n",
    "# Printing the original and copied dictionary\n",
    "print(\"Original Dictionary:\", original_dict)\n",
    "print(\"Copied Dictionary:\", copied_dict)"
   ]
  },
  {
   "cell_type": "markdown",
   "metadata": {},
   "source": [
    "### fromkeys Method"
   ]
  },
  {
   "cell_type": "markdown",
   "metadata": {},
   "source": [
    "> Creates a dictionary from the given sequence\n",
    "\n",
    "syntax:- `new_dict = dict.fromkeys(keys, value)`\n",
    "\n",
    "`keys` is the iterable containing the keys for the new dictionary.\n",
    "\n",
    "`value` is the value to be set for each key in the dictionary. This is optional; if not provided, the default value for all keys will be None.\n"
   ]
  },
  {
   "cell_type": "code",
   "execution_count": null,
   "metadata": {},
   "outputs": [],
   "source": [
    "# Defining a list of keys\n",
    "keys = ['a', 'b', 'c']\n",
    "\n",
    "# Using fromkeys method to create a dictionary\n",
    "# with all values initialized to 0\n",
    "new_dict = dict.fromkeys(keys, 0)\n",
    "\n",
    "# Printing the new dictionary\n",
    "print(new_dict)"
   ]
  },
  {
   "cell_type": "markdown",
   "metadata": {},
   "source": [
    "### get Method"
   ]
  },
  {
   "cell_type": "markdown",
   "metadata": {},
   "source": [
    "> Returns the value for the given key\n",
    "\n",
    "syntax:- `value = dictionary.get(key, default)`\n",
    "\n",
    "`key` is the key for which to search in the dictionary.\n",
    "\n",
    "`default` is the value to return if the key is not found. This parameter is optional, and if not provided, None is returned when the key is not present.\n"
   ]
  },
  {
   "cell_type": "code",
   "execution_count": null,
   "metadata": {},
   "outputs": [],
   "source": [
    "# Creating a dictionary\n",
    "my_dict = {'name': 'Emma', 'age': 32}\n",
    "\n",
    "# Using get method to retrieve a value\n",
    "name = my_dict.get('name')\n",
    "age = my_dict.get('age')\n",
    "profession = my_dict.get('profession', 'Unknown')\n",
    "\n",
    "# Printing the results\n",
    "print(\"Name:\", name)\n",
    "print(\"Age:\", age)\n",
    "print(\"Profession:\", profession)"
   ]
  },
  {
   "cell_type": "markdown",
   "metadata": {},
   "source": [
    "### items Method"
   ]
  },
  {
   "cell_type": "markdown",
   "metadata": {},
   "source": [
    "> Return the list with all dictionary keys with values\n",
    "\n",
    "syntax:- `items_view = dictionary.items()`"
   ]
  },
  {
   "cell_type": "code",
   "execution_count": null,
   "metadata": {},
   "outputs": [],
   "source": [
    "# Creating a dictionary\n",
    "my_dict = {'name': 'David', 'age': 28, 'city': 'Toronto'}\n",
    "\n",
    "# Using items method\n",
    "dict_items = my_dict.items()\n",
    "\n",
    "# Iterating over the items and printing them\n",
    "for key, value in dict_items:\n",
    "    print(key, value)"
   ]
  },
  {
   "cell_type": "markdown",
   "metadata": {},
   "source": [
    "### keys Method"
   ]
  },
  {
   "cell_type": "markdown",
   "metadata": {},
   "source": [
    "> Returns a view object that displays a list of all the keys in the dictionary in order of insertion\n",
    "\n",
    "syntax:- `keys_view = dictionary.keys()`"
   ]
  },
  {
   "cell_type": "code",
   "execution_count": null,
   "metadata": {},
   "outputs": [],
   "source": [
    "# Creating a dictionary\n",
    "my_dict = {'name': 'Sara', 'age': 35, 'country': 'USA'}\n",
    "\n",
    "# Using keys method\n",
    "dict_keys = my_dict.keys()\n",
    "\n",
    "# Iterating over the keys and printing them\n",
    "for key in dict_keys:\n",
    "    print(key)"
   ]
  },
  {
   "cell_type": "markdown",
   "metadata": {},
   "source": [
    "### values Method"
   ]
  },
  {
   "cell_type": "markdown",
   "metadata": {},
   "source": [
    "> Updates the dictionary with the elements from another dictionary\n",
    "\n",
    "syntax:- `values_view = dictionary.values()`"
   ]
  },
  {
   "cell_type": "code",
   "execution_count": null,
   "metadata": {},
   "outputs": [],
   "source": [
    "# Creating a dictionary\n",
    "my_dict = {'name': 'Mark', 'age': 40, 'occupation': 'Engineer'}\n",
    "\n",
    "# Using values method\n",
    "dict_values = my_dict.values()\n",
    "\n",
    "# Iterating over the values and printing them\n",
    "for value in dict_values:\n",
    "    print(value)\n"
   ]
  },
  {
   "cell_type": "markdown",
   "metadata": {},
   "source": [
    "### pop Method"
   ]
  },
  {
   "cell_type": "markdown",
   "metadata": {},
   "source": [
    "> Returns and removes the element with the given key\n",
    "\n",
    "syntax:- `value = dictionary.pop(key[, default])`\n",
    "\n",
    "key is the key to be removed and returned from the dictionary.\n",
    "\n",
    "default is optional and is the value to return if the key is not found. If default is not provided and the key is not found, a KeyError is raised."
   ]
  },
  {
   "cell_type": "code",
   "execution_count": null,
   "metadata": {},
   "outputs": [],
   "source": [
    "# Creating a dictionary\n",
    "my_dict = {'name': 'Emily', 'age': 27, 'city': 'Boston'}\n",
    "\n",
    "# Using pop method to remove a key-value pair\n",
    "age = my_dict.pop('age')\n",
    "\n",
    "# Trying to pop a non-existent key with a default value\n",
    "country = my_dict.pop('country', 'Not Found')\n",
    "\n",
    "# Printing results and the updated dictionary\n",
    "print(\"Age:\", age)\n",
    "print(\"Country:\", country)\n",
    "print(\"Updated Dictionary:\", my_dict)\n"
   ]
  },
  {
   "cell_type": "markdown",
   "metadata": {},
   "source": [
    "### popitem Method"
   ]
  },
  {
   "cell_type": "markdown",
   "metadata": {},
   "source": [
    "> Returns and removes the key-value pair from the dictionary\n",
    "\n",
    "syntax:- `key, value = dictionary.popitem()`\n",
    "\n"
   ]
  },
  {
   "cell_type": "code",
   "execution_count": null,
   "metadata": {},
   "outputs": [],
   "source": [
    "# Creating a dictionary\n",
    "my_dict = {'name': 'Laura', 'age': 33, 'city': 'Berlin'}\n",
    "\n",
    "# Using popitem method to remove the last inserted item\n",
    "last_item = my_dict.popitem()\n",
    "\n",
    "# Printing the removed item and the updated dictionary\n",
    "print(\"Removed item:\", last_item)\n",
    "print(\"Updated Dictionary:\", my_dict)"
   ]
  },
  {
   "cell_type": "markdown",
   "metadata": {},
   "source": [
    "### update Method"
   ]
  },
  {
   "cell_type": "markdown",
   "metadata": {},
   "source": [
    "> Returns a list of all the values available in a given dictionary\n",
    "\n",
    "syntax:- `dictionary.update(other)`\n",
    "\n",
    "`other` can be a dictionary or an iterable of key-value pairs (e.g., tuples). If other is a dictionary, its key-value pairs are directly added or updated in dictionary. If it's an iterable, it should provide pairs of keys and values.\n"
   ]
  },
  {
   "cell_type": "code",
   "execution_count": null,
   "metadata": {},
   "outputs": [],
   "source": [
    "# Creating two dictionaries\n",
    "my_dict = {'name': 'Jack', 'age': 21}\n",
    "new_info = {'age': 22, 'city': 'New York'}\n",
    "\n",
    "# Using update method to add/update key-value pairs\n",
    "my_dict.update(new_info)\n",
    "\n",
    "# Printing the updated dictionary\n",
    "print(my_dict)\n"
   ]
  },
  {
   "cell_type": "markdown",
   "metadata": {},
   "source": [
    "### setdefault Method"
   ]
  },
  {
   "cell_type": "markdown",
   "metadata": {},
   "source": [
    "> Returns the value of a key if the key is in the dictionary else inserts the key with a value to the dictionary\n",
    "\n",
    "syntax:- `value = dictionary.setdefault(key, default_value)`\n",
    "\n",
    "`key` is the key to be checked in the dictionary.\n",
    "\n",
    "`default_value` is the value to set if the key is not found. This parameter is optional, and if not provided, None is used as the default value."
   ]
  },
  {
   "cell_type": "code",
   "execution_count": null,
   "metadata": {},
   "outputs": [],
   "source": [
    "# Creating a dictionary\n",
    "my_dict = {'name': 'Sophia', 'age': 30}\n",
    "\n",
    "# Using setdefault method\n",
    "# This will return 30 as 'age' is present in the dictionary\n",
    "age = my_dict.setdefault('age', 25)\n",
    "\n",
    "# This will add 'city' to the dictionary with the default value 'Unknown'\n",
    "city = my_dict.setdefault('city', 'Unknown')\n",
    "\n",
    "# Printing the values and the updated dictionary\n",
    "print(\"Age:\", age)\n",
    "print(\"City:\", city)\n",
    "print(\"Updated Dictionary:\", my_dict)\n"
   ]
  }
 ],
 "metadata": {
  "kernelspec": {
   "display_name": "Python 3",
   "language": "python",
   "name": "python3"
  },
  "language_info": {
   "codemirror_mode": {
    "name": "ipython",
    "version": 3
   },
   "file_extension": ".py",
   "mimetype": "text/x-python",
   "name": "python",
   "nbconvert_exporter": "python",
   "pygments_lexer": "ipython3",
   "version": "3.10.12"
  }
 },
 "nbformat": 4,
 "nbformat_minor": 2
}
