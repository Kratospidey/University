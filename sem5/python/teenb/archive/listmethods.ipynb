{
 "cells": [
  {
   "cell_type": "markdown",
   "metadata": {},
   "source": [
    "## List Methods"
   ]
  },
  {
   "cell_type": "markdown",
   "metadata": {},
   "source": [
    "### "
   ]
  },
  {
   "cell_type": "markdown",
   "metadata": {},
   "source": [
    "### Sorting (also includes string 🤓)\n",
    "\n"
   ]
  },
  {
   "cell_type": "markdown",
   "metadata": {},
   "source": [
    "- sort applied for list, sets, tuples, etc\n",
    "- sorted applied for strings and dicts\n",
    "- key allows for a custom sorting order based on a lambda function (**example give below**)\n",
    "- reverse allows to print in a reverse sorting order based on default or custom order using key paramter"
   ]
  },
  {
   "cell_type": "code",
   "execution_count": 6,
   "metadata": {},
   "outputs": [
    {
     "name": "stdout",
     "output_type": "stream",
     "text": [
      "[('Param', 4), ('Jash', 10), ('Yash', 11), ('Aditya', 18)]\n"
     ]
    }
   ],
   "source": [
    "nums = [1,4,3,5,2]\n",
    "nums.sort(reverse=True)\n",
    "names = {\"Param\": 4, \"Yash\": 11, \"Jash\": 10, \"Aditya\": 18}\n",
    "# print(nums)\n",
    "names = sorted(names.items(), key= lambda x: x[1]) \n",
    "# ! print(names.items())\n",
    "# lambda x - [\"Aditya\", 18]\n",
    "print(names)"
   ]
  },
  {
   "cell_type": "markdown",
   "metadata": {},
   "source": [
    "for rest of the list methods refer:- https://www.w3schools.com/python/python_ref_list.asp"
   ]
  }
 ],
 "metadata": {
  "kernelspec": {
   "display_name": "Python 3",
   "language": "python",
   "name": "python3"
  },
  "language_info": {
   "codemirror_mode": {
    "name": "ipython",
    "version": 3
   },
   "file_extension": ".py",
   "mimetype": "text/x-python",
   "name": "python",
   "nbconvert_exporter": "python",
   "pygments_lexer": "ipython3",
   "version": "3.10.12"
  }
 },
 "nbformat": 4,
 "nbformat_minor": 2
}
