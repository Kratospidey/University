{
 "cells": [
  {
   "cell_type": "markdown",
   "metadata": {},
   "source": [
    "# List Comprehension\n"
   ]
  },
  {
   "cell_type": "markdown",
   "metadata": {},
   "source": [
    "> A concise syntax for creating new lists by applying an expression to each item in an iterable.\n",
    "\n",
    "- list comprehension without any conditions `[expression for item in iterable]`\n",
    "- list comprehension with just if condition `[expression for item in iterable if condition]`\n",
    "- list comprehension with if and else condition `[expression_if_true if condition else expression_if_false for item in iterable]`\n",
    "- list comprehnsion with nested if else `[expression_if_true if condition1 else expression_if_condition1_false if condition2 else expression_if_condition2_false for item in iterable]`"
   ]
  },
  {
   "cell_type": "code",
   "execution_count": null,
   "metadata": {},
   "outputs": [],
   "source": [
    "\n",
    "# ! example\n",
    "\n",
    "squares = [x**2 for x in range(1, 6)]\n",
    "print(squares)"
   ]
  },
  {
   "cell_type": "markdown",
   "metadata": {},
   "source": [
    "Using list comprehension in Python, create a list of squares for all even numbers between 1 and 20. "
   ]
  },
  {
   "cell_type": "code",
   "execution_count": null,
   "metadata": {},
   "outputs": [],
   "source": []
  },
  {
   "cell_type": "markdown",
   "metadata": {},
   "source": [
    "Create a list where each number in the range from 1 to 10 is categorized as follows:\n",
    "\n",
    "\"small-even\" if the number is even and less than 5,\n",
    "\n",
    "\"large-even\" if the number is even and 5 or more,\n",
    "\n",
    "\"small-odd\" if the number is odd and less than 5,\n",
    "\n",
    "\"large-odd\" if the number is odd and 5 or more."
   ]
  },
  {
   "cell_type": "code",
   "execution_count": null,
   "metadata": {},
   "outputs": [],
   "source": []
  },
  {
   "cell_type": "markdown",
   "metadata": {},
   "source": [
    "## Dictionary Copmrehension"
   ]
  },
  {
   "cell_type": "markdown",
   "metadata": {},
   "source": [
    ">  A compact method for creating new dictionaries by generating key-value pairs through expressions applied to items in an iterable.\n",
    "\n",
    "syntax:- `{key_expression: value_expression for item in iterable [if condition]}`\n",
    "\n",
    "`key_expression`: Expression that defines the keys of the new dictionary.\n",
    "\n",
    "`value_expression`: Expression that defines the values of the new dictionary.\n",
    "\n",
    "`for item in iterable`: Loop that iterates over each item in the iterable object.\n",
    "\n",
    "`[if condition] (optional)`: A condition that filters items from the iterable. Only items for which the condition is True are included in the new dictionary.\n"
   ]
  },
  {
   "cell_type": "code",
   "execution_count": null,
   "metadata": {},
   "outputs": [],
   "source": [
    "\n",
    "# ! example\n",
    "\n",
    "numbers = [1, 2, 3, 4, 5]\n",
    "squared_numbers = {x: x**2 for x in numbers}\n",
    "\n",
    "print(squared_numbers)"
   ]
  },
  {
   "cell_type": "markdown",
   "metadata": {},
   "source": [
    "Given a list of words ['apple', 'banana', 'cherry', 'date']\n",
    "\n",
    "write a dictionary comprehension that creates a dictionary where each word is a key and its length is the corresponding value."
   ]
  },
  {
   "cell_type": "code",
   "execution_count": null,
   "metadata": {},
   "outputs": [],
   "source": []
  }
 ],
 "metadata": {
  "kernelspec": {
   "display_name": "Python 3",
   "language": "python",
   "name": "python3"
  },
  "language_info": {
   "codemirror_mode": {
    "name": "ipython",
    "version": 3
   },
   "file_extension": ".py",
   "mimetype": "text/x-python",
   "name": "python",
   "nbconvert_exporter": "python",
   "pygments_lexer": "ipython3",
   "version": "3.10.12"
  }
 },
 "nbformat": 4,
 "nbformat_minor": 2
}
